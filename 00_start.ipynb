{
 "cells": [
  {
   "cell_type": "code",
   "execution_count": 1,
   "metadata": {},
   "outputs": [
    {
     "name": "stdout",
     "output_type": "stream",
     "text": [
      "_pickle  sample_submission.csv\ttest_data.csv  train_data.csv  train_labels.csv\n"
     ]
    }
   ],
   "source": [
    "!ls ../../KAGGLE_DATA/amex-default-prediction"
   ]
  },
  {
   "cell_type": "code",
   "execution_count": 2,
   "metadata": {},
   "outputs": [],
   "source": [
    "DATA = \"../../KAGGLE_DATA/amex-default-prediction\""
   ]
  },
  {
   "cell_type": "code",
   "execution_count": 3,
   "metadata": {},
   "outputs": [],
   "source": [
    "import os\n",
    "import pandas as pd\n",
    "import dask.dataframe as dd\n",
    "import dask.multiprocessing\n",
    "\n",
    "# df_train = pd.read_csv(os.path.join(DATA, \"train_data.csv\"))\n",
    "# df_test = pd.read_csv(os.path.join(DATA, \"test_data.csv\"))\n",
    "# train_labels = pd.read_csv(os.path.join(DATA, \"train_labels.csv\"))\n",
    "# sample_submission = pd.read_csv(os.path.join(DATA, \"sample_submission.csv\"))\n",
    "\n",
    "\n",
    "# DASKよりもpickle化のほうが早いらしいから、一回読んでpickleのほうが良さそうではある --\n",
    "#df_train = dd.read_csv(os.path.join(DATA, \"train_data.csv\")).compute()\n",
    "\n",
    "df_test = dd.read_csv(os.path.join(DATA, \"test_data.csv\")).compute()\n",
    "train_labels = dd.read_csv(os.path.join(DATA, \"train_labels.csv\")).compute()\n",
    "sample_submission = dd.read_csv(os.path.join(DATA, \"sample_submission.csv\")).compute()"
   ]
  },
  {
   "cell_type": "code",
   "execution_count": 4,
   "metadata": {},
   "outputs": [],
   "source": [
    "df_test.to_pickle(os.path.join(DATA, \"_pickle/test_data.pkl\"))\n",
    "train_labels.to_pickle(os.path.join(DATA, \"_pickle/train_labels.pkl\"))\n",
    "sample_submission.to_pickle(os.path.join(DATA, \"_pickle/sample_submission.pkl\"))"
   ]
  },
  {
   "cell_type": "code",
   "execution_count": null,
   "metadata": {},
   "outputs": [],
   "source": [
    "dd"
   ]
  }
 ],
 "metadata": {
  "interpreter": {
   "hash": "48538531b88b9799fbd3a2f272527044590e1526a2b3a87d903d7ac44f067a72"
  },
  "kernelspec": {
   "display_name": "Python 3.9.6 ('.venv': poetry)",
   "language": "python",
   "name": "python3"
  },
  "language_info": {
   "codemirror_mode": {
    "name": "ipython",
    "version": 3
   },
   "file_extension": ".py",
   "mimetype": "text/x-python",
   "name": "python",
   "nbconvert_exporter": "python",
   "pygments_lexer": "ipython3",
   "version": "3.9.6"
  },
  "orig_nbformat": 4
 },
 "nbformat": 4,
 "nbformat_minor": 2
}

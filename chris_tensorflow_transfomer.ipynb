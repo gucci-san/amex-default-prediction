{
 "cells": [
  {
   "cell_type": "markdown",
   "metadata": {},
   "source": [
    "## Chris, TensorFlow Transformer - [0.790]"
   ]
  },
  {
   "cell_type": "markdown",
   "metadata": {},
   "source": [
    "* https://www.kaggle.com/code/cdeotte/tensorflow-transformer-0-790"
   ]
  },
  {
   "cell_type": "code",
   "execution_count": 50,
   "metadata": {},
   "outputs": [],
   "source": [
    "import cupy # cudf\n",
    "import numpy as np\n",
    "import pandas as pd\n",
    "import matplotlib.pyplot as plt\n",
    "import gc, os\n",
    "\n",
    "PATH_TO_DATA = \"/mnt/sdb/KAGGLE_DATA/amex-default-prediction/amex-data-for-transformers-and-rnns/data/\"\n",
    "TRAIN_MODEL = True\n",
    "PATH_TO_MODEL = \"./output/chris_transformer_tmp/\"\n",
    "\n",
    "INFER_TEST = True"
   ]
  },
  {
   "cell_type": "markdown",
   "metadata": {},
   "source": [
    "### Build Transformer Model --"
   ]
  },
  {
   "cell_type": "code",
   "execution_count": 51,
   "metadata": {},
   "outputs": [
    {
     "name": "stdout",
     "output_type": "stream",
     "text": [
      "Using TensorFlow version 2.10.0\n"
     ]
    }
   ],
   "source": [
    "os.environ[\"TF_GPU_ALLOCATOR\"] = \"cuda_malloc_async\"  # TF will not use all memory --\n",
    "import tensorflow as tf\n",
    "import tensorflow.keras.backend as K\n",
    "from tensorflow import keras\n",
    "from tensorflow.keras import layers\n",
    "\n",
    "print(\"Using TensorFlow version\", tf.__version__)"
   ]
  },
  {
   "cell_type": "code",
   "execution_count": 52,
   "metadata": {},
   "outputs": [],
   "source": [
    "class TransformerBlock(layers.Layer):\n",
    "    def __init__(self, embed_dim, feat_dim, num_heads, ff_dim, rate=0.1):\n",
    "        super(TransformerBlock, self).__init__()\n",
    "        self.att = layers.MultiHeadAttention(num_heads=num_heads, key_dim=embed_dim)\n",
    "        self.ffn = keras.Sequential(\n",
    "            [\n",
    "                layers.Dense(ff_dim, activation=\"gelu\"),\n",
    "                layers.Dense(feat_dim)\n",
    "            ]\n",
    "        )\n",
    "        self.layernorm1 = layers.LayerNormalization(epsilon=1e-6)\n",
    "        self.layernorm2 = layers.LayerNormalization(epsilon=1e-6)\n",
    "        self.dropout1 = layers.Dropout(rate)\n",
    "        self.dropout2 = layers.Dropout(rate)\n",
    "\n",
    "    def call(self, inputs, training):\n",
    "        attn_output = self.att(inputs, inputs)\n",
    "        attn_output = self.dropout1(attn_output, training=training)\n",
    "        out1 = self.layernorm1(inputs + attn_output)\n",
    "        ffn_output = self.ffn(out1)\n",
    "        ffn_output = self.dropout2(ffn_output, training=training)\n",
    "        return self.layernorm2(out1 + ffn_output)"
   ]
  },
  {
   "cell_type": "code",
   "execution_count": 53,
   "metadata": {},
   "outputs": [],
   "source": [
    "feat_dim = 188\n",
    "embed_dim = 64 # embedding size for attention --\n",
    "num_heads = 4 # number of attention heads --\n",
    "ff_dim = 128 # hidden layer size in feed forward network inside transformer --\n",
    "dropout_rate = 0.3\n",
    "num_blocks = 2"
   ]
  },
  {
   "cell_type": "code",
   "execution_count": 54,
   "metadata": {},
   "outputs": [],
   "source": [
    "def build_model():\n",
    "\n",
    "    # input embedding layer --\n",
    "    inp = layers.Input(shape=(13, 188))\n",
    "    embeddings = []\n",
    "    for k in range(11):\n",
    "        emb = layers.Embedding(10, 4)\n",
    "        embeddings.append(emb(inp[:, :, k]))\n",
    "    x = layers.Concatenate()([inp[:, :, 11:]]+embeddings)\n",
    "    x = layers.Dense(feat_dim)(x)\n",
    "\n",
    "    # transformer blocks --\n",
    "    for k in range(num_blocks):\n",
    "        x_old = x\n",
    "        transformer_block = TransformerBlock(embed_dim, feat_dim, num_heads, ff_dim, dropout_rate)\n",
    "        x = transformer_block(x)\n",
    "        x = 0.9*x + 0.1*x_old  # skip connection --\n",
    "    \n",
    "    # classification head --\n",
    "    x = layers.Dense(64, activation=\"relu\")(x[:,-1,:])\n",
    "    x = layers.Dense(32, activation=\"relu\")(x)\n",
    "    outputs = layers.Dense(1, activation=\"sigmoid\")(x)\n",
    "\n",
    "    model = keras.Model(inputs=inp, outputs=outputs)\n",
    "    opt = tf.keras.optimizers.Adam(learning_rate=0.001)\n",
    "    loss = tf.keras.losses.BinaryCrossentropy()\n",
    "    model.compile(loss=loss, optimizer=opt)\n",
    "\n",
    "    return model"
   ]
  },
  {
   "cell_type": "markdown",
   "metadata": {},
   "source": [
    "### Define Learning Schedule"
   ]
  },
  {
   "cell_type": "code",
   "execution_count": 55,
   "metadata": {},
   "outputs": [
    {
     "name": "stdout",
     "output_type": "stream",
     "text": [
      "Learning rate schedule: 0.001 to 0.001 to 1e-06\n"
     ]
    },
    {
     "data": {
      "image/png": "[encoded data removed]",
      "text/plain": [
       "<Figure size 800x300 with 1 Axes>"
      ]
     },
     "metadata": {},
     "output_type": "display_data"
    }
   ],
   "source": [
    "import math\n",
    "LR_START = 1e-6\n",
    "LR_MAX = 1e-3\n",
    "LR_MIN = 1e-6\n",
    "LR_RAMPUP_EPOCHS = 0\n",
    "LR_SUSTAIN_EPOCHS = 0\n",
    "EPOCHS = 8\n",
    "\n",
    "def lrfn(epoch):\n",
    "    if epoch < LR_RAMPUP_EPOCHS:\n",
    "        lr = (LR_MAX - LR_START) / LR_RAMPUP_EPOCHS*epoch + LR_START\n",
    "    elif epoch < LR_RAMPUP_EPOCHS + LR_SUSTAIN_EPOCHS:\n",
    "        lr = LR_MAX\n",
    "    else:\n",
    "        decay_total_epochs = EPOCHS - LR_RAMPUP_EPOCHS - LR_SUSTAIN_EPOCHS - 1\n",
    "        decay_epoch_index = epoch - LR_RAMPUP_EPOCHS - LR_SUSTAIN_EPOCHS\n",
    "        phase = math.pi*decay_epoch_index/decay_total_epochs\n",
    "        cosine_decay = 0.5*(1 + math.cos(phase))\n",
    "        lr = (LR_MAX - LR_MIN)*cosine_decay + LR_MIN\n",
    "    return lr\n",
    "\n",
    "rng = [i for i in range(EPOCHS)]\n",
    "lr_y = [lrfn(x) for x in rng]\n",
    "fig, ax = plt.subplots(figsize=(8, 3))\n",
    "ax.plot(rng, lr_y, \"-o\")\n",
    "ax.set_xlabel(\"Epoch\"); ax.set_ylabel(\"LR\")\n",
    "print(f\"Learning rate schedule: {lr_y[0]:.3g} to {max(lr_y):.3g} to {lr_y[-1]:.3g}\")"
   ]
  },
  {
   "cell_type": "code",
   "execution_count": 56,
   "metadata": {},
   "outputs": [],
   "source": [
    "LR = tf.keras.callbacks.LearningRateScheduler(lrfn, verbose=True)"
   ]
  },
  {
   "cell_type": "markdown",
   "metadata": {},
   "source": [
    "### Define Competition Metric --"
   ]
  },
  {
   "cell_type": "code",
   "execution_count": 57,
   "metadata": {},
   "outputs": [],
   "source": [
    "# COMPETITION METRIC FROM Konstantin Yakovlev\n",
    "# https://www.kaggle.com/kyakovlev\n",
    "# https://www.kaggle.com/competitions/amex-default-prediction/discussion/327534\n",
    "def amex_metric_mod(y_true, y_pred):\n",
    "\n",
    "    labels     = np.transpose(np.array([y_true, y_pred]))\n",
    "    labels     = labels[labels[:, 1].argsort()[::-1]]\n",
    "    weights    = np.where(labels[:,0]==0, 20, 1)\n",
    "    cut_vals   = labels[np.cumsum(weights) <= int(0.04 * np.sum(weights))]\n",
    "    top_four   = np.sum(cut_vals[:,0]) / np.sum(labels[:,0])\n",
    "\n",
    "    gini = [0,0]\n",
    "    for i in [1,0]:\n",
    "        labels         = np.transpose(np.array([y_true, y_pred]))\n",
    "        labels         = labels[labels[:, i].argsort()[::-1]]\n",
    "        weight         = np.where(labels[:,0]==0, 20, 1)\n",
    "        weight_random  = np.cumsum(weight / np.sum(weight))\n",
    "        total_pos      = np.sum(labels[:, 0] *  weight)\n",
    "        cum_pos_found  = np.cumsum(labels[:, 0] * weight)\n",
    "        lorentz        = cum_pos_found / total_pos\n",
    "        gini[i]        = np.sum((lorentz - weight_random) * weight)\n",
    "\n",
    "    return 0.5 * (gini[1]/gini[0] + top_four)"
   ]
  },
  {
   "cell_type": "markdown",
   "metadata": {},
   "source": [
    "### Train Model --"
   ]
  },
  {
   "cell_type": "code",
   "execution_count": 58,
   "metadata": {},
   "outputs": [
    {
     "name": "stdout",
     "output_type": "stream",
     "text": [
      "#########################\n",
      "### Fold 1 with valid files [1, 2]\n",
      "### Training data shapes (367131, 13, 188) (367131,)\n",
      "### Validation data shapes (91782, 13, 188) (91782,)\n",
      "#########################\n"
     ]
    },
    {
     "name": "stderr",
     "output_type": "stream",
     "text": [
      "2022-09-28 22:33:22.182676: I tensorflow/stream_executor/cuda/cuda_gpu_executor.cc:980] successful NUMA node read from SysFS had negative value (-1), but there must be at least one NUMA node, so returning NUMA node zero\n",
      "2022-09-28 22:33:22.183050: I tensorflow/stream_executor/cuda/cuda_gpu_executor.cc:980] successful NUMA node read from SysFS had negative value (-1), but there must be at least one NUMA node, so returning NUMA node zero\n",
      "2022-09-28 22:33:22.183129: I tensorflow/stream_executor/cuda/cuda_gpu_executor.cc:980] successful NUMA node read from SysFS had negative value (-1), but there must be at least one NUMA node, so returning NUMA node zero\n",
      "2022-09-28 22:33:22.183409: I tensorflow/core/platform/cpu_feature_guard.cc:193] This TensorFlow binary is optimized with oneAPI Deep Neural Network Library (oneDNN) to use the following CPU instructions in performance-critical operations:  AVX2 FMA\n",
      "To enable them in other operations, rebuild TensorFlow with the appropriate compiler flags.\n",
      "2022-09-28 22:33:22.183829: I tensorflow/stream_executor/cuda/cuda_gpu_executor.cc:980] successful NUMA node read from SysFS had negative value (-1), but there must be at least one NUMA node, so returning NUMA node zero\n",
      "2022-09-28 22:33:22.183913: I tensorflow/stream_executor/cuda/cuda_gpu_executor.cc:980] successful NUMA node read from SysFS had negative value (-1), but there must be at least one NUMA node, so returning NUMA node zero\n",
      "2022-09-28 22:33:22.183986: I tensorflow/stream_executor/cuda/cuda_gpu_executor.cc:980] successful NUMA node read from SysFS had negative value (-1), but there must be at least one NUMA node, so returning NUMA node zero\n",
      "2022-09-28 22:33:22.552876: I tensorflow/stream_executor/cuda/cuda_gpu_executor.cc:980] successful NUMA node read from SysFS had negative value (-1), but there must be at least one NUMA node, so returning NUMA node zero\n",
      "2022-09-28 22:33:22.552993: I tensorflow/stream_executor/cuda/cuda_gpu_executor.cc:980] successful NUMA node read from SysFS had negative value (-1), but there must be at least one NUMA node, so returning NUMA node zero\n",
      "2022-09-28 22:33:22.553076: I tensorflow/stream_executor/cuda/cuda_gpu_executor.cc:980] successful NUMA node read from SysFS had negative value (-1), but there must be at least one NUMA node, so returning NUMA node zero\n",
      "2022-09-28 22:33:22.553143: I tensorflow/core/common_runtime/gpu/gpu_process_state.cc:222] Using CUDA malloc Async allocator for GPU: 0\n",
      "2022-09-28 22:33:22.553244: I tensorflow/core/common_runtime/gpu/gpu_device.cc:1616] Created device /job:localhost/replica:0/task:0/device:GPU:0 with 9154 MB memory:  -> device: 0, name: NVIDIA GeForce GTX 1080 Ti, pci bus id: 0000:01:00.0, compute capability: 6.1\n",
      "2022-09-28 22:33:23.043450: W tensorflow/core/framework/cpu_allocator_impl.cc:82] Allocation of 3589072656 exceeds 10% of free system memory.\n",
      "2022-09-28 22:33:24.542009: W tensorflow/core/framework/cpu_allocator_impl.cc:82] Allocation of 3589072656 exceeds 10% of free system memory.\n"
     ]
    },
    {
     "name": "stdout",
     "output_type": "stream",
     "text": [
      "\n",
      "Epoch 1: LearningRateScheduler setting learning rate to 0.001.\n",
      "Epoch 1/8\n"
     ]
    },
    {
     "name": "stderr",
     "output_type": "stream",
     "text": [
      "2022-09-28 22:33:45.941765: W tensorflow/core/framework/cpu_allocator_impl.cc:82] Allocation of 897260832 exceeds 10% of free system memory.\n",
      "2022-09-28 22:33:46.351023: W tensorflow/core/framework/cpu_allocator_impl.cc:82] Allocation of 897260832 exceeds 10% of free system memory.\n"
     ]
    },
    {
     "name": "stdout",
     "output_type": "stream",
     "text": [
      "718/718 - 23s - loss: 0.2406 - val_loss: 0.2477 - lr: 0.0010 - 23s/epoch - 33ms/step\n",
      "\n",
      "Epoch 2: LearningRateScheduler setting learning rate to 0.0009505339495172585.\n",
      "Epoch 2/8\n",
      "718/718 - 19s - loss: 0.2307 - val_loss: 0.2356 - lr: 9.5053e-04 - 19s/epoch - 26ms/step\n",
      "\n",
      "Epoch 3: LearningRateScheduler setting learning rate to 0.0008119331560284375.\n",
      "Epoch 3/8\n",
      "718/718 - 20s - loss: 0.2279 - val_loss: 0.2303 - lr: 8.1193e-04 - 20s/epoch - 28ms/step\n",
      "\n",
      "Epoch 4: LearningRateScheduler setting learning rate to 0.0006116492065111791.\n",
      "Epoch 4/8\n",
      "718/718 - 20s - loss: 0.2231 - val_loss: 0.2333 - lr: 6.1165e-04 - 20s/epoch - 28ms/step\n",
      "\n",
      "Epoch 5: LearningRateScheduler setting learning rate to 0.00038935079348882104.\n",
      "Epoch 5/8\n",
      "718/718 - 21s - loss: 0.2201 - val_loss: 0.2296 - lr: 3.8935e-04 - 21s/epoch - 29ms/step\n",
      "\n",
      "Epoch 6: LearningRateScheduler setting learning rate to 0.00018906684397156263.\n",
      "Epoch 6/8\n",
      "718/718 - 20s - loss: 0.2164 - val_loss: 0.2262 - lr: 1.8907e-04 - 20s/epoch - 28ms/step\n",
      "\n",
      "Epoch 7: LearningRateScheduler setting learning rate to 5.046605048274169e-05.\n",
      "Epoch 7/8\n",
      "718/718 - 20s - loss: 0.2132 - val_loss: 0.2259 - lr: 5.0466e-05 - 20s/epoch - 28ms/step\n",
      "\n",
      "Epoch 8: LearningRateScheduler setting learning rate to 1e-06.\n",
      "Epoch 8/8\n",
      "718/718 - 21s - loss: 0.2118 - val_loss: 0.2255 - lr: 1.0000e-06 - 21s/epoch - 29ms/step\n"
     ]
    },
    {
     "name": "stderr",
     "output_type": "stream",
     "text": [
      "2022-09-28 22:36:10.453716: W tensorflow/core/framework/cpu_allocator_impl.cc:82] Allocation of 897260832 exceeds 10% of free system memory.\n"
     ]
    },
    {
     "name": "stdout",
     "output_type": "stream",
     "text": [
      "180/180 - 3s - 3s/epoch - 15ms/step\n",
      "\n",
      "Fold 1 CV= 0.7864107176161916\n",
      "\n",
      "#########################\n",
      "### Fold 2 with valid files [3, 4]\n",
      "### Training data shapes (367131, 13, 188) (367131,)\n",
      "### Validation data shapes (91782, 13, 188) (91782,)\n",
      "#########################\n",
      "\n",
      "Epoch 1: LearningRateScheduler setting learning rate to 0.001.\n",
      "Epoch 1/8\n",
      "718/718 - 25s - loss: 0.2412 - val_loss: 0.2380 - lr: 0.0010 - 25s/epoch - 35ms/step\n",
      "\n",
      "Epoch 2: LearningRateScheduler setting learning rate to 0.0009505339495172585.\n",
      "Epoch 2/8\n",
      "718/718 - 22s - loss: 0.2305 - val_loss: 0.2333 - lr: 9.5053e-04 - 22s/epoch - 31ms/step\n",
      "\n",
      "Epoch 3: LearningRateScheduler setting learning rate to 0.0008119331560284375.\n",
      "Epoch 3/8\n",
      "718/718 - 20s - loss: 0.2274 - val_loss: 0.2284 - lr: 8.1193e-04 - 20s/epoch - 28ms/step\n",
      "\n",
      "Epoch 4: LearningRateScheduler setting learning rate to 0.0006116492065111791.\n",
      "Epoch 4/8\n",
      "718/718 - 21s - loss: 0.2240 - val_loss: 0.2285 - lr: 6.1165e-04 - 21s/epoch - 29ms/step\n",
      "\n",
      "Epoch 5: LearningRateScheduler setting learning rate to 0.00038935079348882104.\n",
      "Epoch 5/8\n",
      "718/718 - 21s - loss: 0.2205 - val_loss: 0.2259 - lr: 3.8935e-04 - 21s/epoch - 29ms/step\n",
      "\n",
      "Epoch 6: LearningRateScheduler setting learning rate to 0.00018906684397156263.\n",
      "Epoch 6/8\n",
      "718/718 - 20s - loss: 0.2169 - val_loss: 0.2243 - lr: 1.8907e-04 - 20s/epoch - 28ms/step\n",
      "\n",
      "Epoch 7: LearningRateScheduler setting learning rate to 5.046605048274169e-05.\n",
      "Epoch 7/8\n",
      "718/718 - 21s - loss: 0.2140 - val_loss: 0.2258 - lr: 5.0466e-05 - 21s/epoch - 29ms/step\n",
      "\n",
      "Epoch 8: LearningRateScheduler setting learning rate to 1e-06.\n",
      "Epoch 8/8\n",
      "718/718 - 20s - loss: 0.2126 - val_loss: 0.2253 - lr: 1.0000e-06 - 20s/epoch - 28ms/step\n",
      "180/180 - 3s - 3s/epoch - 15ms/step\n",
      "\n",
      "Fold 2 CV= 0.7822229227808721\n",
      "\n",
      "#########################\n",
      "### Fold 3 with valid files [5, 6]\n",
      "### Training data shapes (367131, 13, 188) (367131,)\n",
      "### Validation data shapes (91782, 13, 188) (91782,)\n",
      "#########################\n",
      "\n",
      "Epoch 1: LearningRateScheduler setting learning rate to 0.001.\n",
      "Epoch 1/8\n",
      "718/718 - 23s - loss: 0.2409 - val_loss: 0.2317 - lr: 0.0010 - 23s/epoch - 31ms/step\n",
      "\n",
      "Epoch 2: LearningRateScheduler setting learning rate to 0.0009505339495172585.\n",
      "Epoch 2/8\n",
      "718/718 - 20s - loss: 0.2312 - val_loss: 0.2288 - lr: 9.5053e-04 - 20s/epoch - 27ms/step\n",
      "\n",
      "Epoch 3: LearningRateScheduler setting learning rate to 0.0008119331560284375.\n",
      "Epoch 3/8\n",
      "718/718 - 20s - loss: 0.2282 - val_loss: 0.2284 - lr: 8.1193e-04 - 20s/epoch - 28ms/step\n",
      "\n",
      "Epoch 4: LearningRateScheduler setting learning rate to 0.0006116492065111791.\n",
      "Epoch 4/8\n",
      "718/718 - 20s - loss: 0.2245 - val_loss: 0.2290 - lr: 6.1165e-04 - 20s/epoch - 28ms/step\n",
      "\n",
      "Epoch 5: LearningRateScheduler setting learning rate to 0.00038935079348882104.\n",
      "Epoch 5/8\n",
      "718/718 - 19s - loss: 0.2211 - val_loss: 0.2271 - lr: 3.8935e-04 - 19s/epoch - 27ms/step\n",
      "\n",
      "Epoch 6: LearningRateScheduler setting learning rate to 0.00018906684397156263.\n",
      "Epoch 6/8\n",
      "718/718 - 19s - loss: 0.2174 - val_loss: 0.2241 - lr: 1.8907e-04 - 19s/epoch - 27ms/step\n",
      "\n",
      "Epoch 7: LearningRateScheduler setting learning rate to 5.046605048274169e-05.\n",
      "Epoch 7/8\n",
      "718/718 - 20s - loss: 0.2144 - val_loss: 0.2231 - lr: 5.0466e-05 - 20s/epoch - 28ms/step\n",
      "\n",
      "Epoch 8: LearningRateScheduler setting learning rate to 1e-06.\n",
      "Epoch 8/8\n",
      "718/718 - 19s - loss: 0.2132 - val_loss: 0.2232 - lr: 1.0000e-06 - 19s/epoch - 27ms/step\n",
      "180/180 - 3s - 3s/epoch - 15ms/step\n",
      "\n",
      "Fold 3 CV= 0.7846726651599959\n",
      "\n",
      "#########################\n",
      "### Fold 4 with valid files [7, 8]\n",
      "### Training data shapes (367131, 13, 188) (367131,)\n",
      "### Validation data shapes (91782, 13, 188) (91782,)\n",
      "#########################\n",
      "\n",
      "Epoch 1: LearningRateScheduler setting learning rate to 0.001.\n",
      "Epoch 1/8\n",
      "718/718 - 23s - loss: 0.2416 - val_loss: 0.2322 - lr: 0.0010 - 23s/epoch - 33ms/step\n",
      "\n",
      "Epoch 2: LearningRateScheduler setting learning rate to 0.0009505339495172585.\n",
      "Epoch 2/8\n",
      "718/718 - 20s - loss: 0.2322 - val_loss: 0.2284 - lr: 9.5053e-04 - 20s/epoch - 28ms/step\n",
      "\n",
      "Epoch 3: LearningRateScheduler setting learning rate to 0.0008119331560284375.\n",
      "Epoch 3/8\n",
      "718/718 - 21s - loss: 0.2284 - val_loss: 0.2288 - lr: 8.1193e-04 - 21s/epoch - 29ms/step\n",
      "\n",
      "Epoch 4: LearningRateScheduler setting learning rate to 0.0006116492065111791.\n",
      "Epoch 4/8\n",
      "718/718 - 21s - loss: 0.2252 - val_loss: 0.2360 - lr: 6.1165e-04 - 21s/epoch - 29ms/step\n",
      "\n",
      "Epoch 5: LearningRateScheduler setting learning rate to 0.00038935079348882104.\n",
      "Epoch 5/8\n",
      "718/718 - 20s - loss: 0.2219 - val_loss: 0.2237 - lr: 3.8935e-04 - 20s/epoch - 28ms/step\n",
      "\n",
      "Epoch 6: LearningRateScheduler setting learning rate to 0.00018906684397156263.\n",
      "Epoch 6/8\n",
      "718/718 - 19s - loss: 0.2183 - val_loss: 0.2226 - lr: 1.8907e-04 - 19s/epoch - 27ms/step\n",
      "\n",
      "Epoch 7: LearningRateScheduler setting learning rate to 5.046605048274169e-05.\n",
      "Epoch 7/8\n",
      "718/718 - 20s - loss: 0.2158 - val_loss: 0.2205 - lr: 5.0466e-05 - 20s/epoch - 28ms/step\n",
      "\n",
      "Epoch 8: LearningRateScheduler setting learning rate to 1e-06.\n",
      "Epoch 8/8\n",
      "718/718 - 20s - loss: 0.2144 - val_loss: 0.2206 - lr: 1.0000e-06 - 20s/epoch - 27ms/step\n",
      "180/180 - 3s - 3s/epoch - 14ms/step\n",
      "\n",
      "Fold 4 CV= 0.7896732255854924\n",
      "\n",
      "#########################\n",
      "### Fold 5 with valid files [9, 10]\n",
      "### Training data shapes (367128, 13, 188) (367128,)\n",
      "### Validation data shapes (91785, 13, 188) (91785,)\n",
      "#########################\n",
      "\n",
      "Epoch 1: LearningRateScheduler setting learning rate to 0.001.\n",
      "Epoch 1/8\n",
      "718/718 - 23s - loss: 0.2403 - val_loss: 0.2657 - lr: 0.0010 - 23s/epoch - 33ms/step\n",
      "\n",
      "Epoch 2: LearningRateScheduler setting learning rate to 0.0009505339495172585.\n",
      "Epoch 2/8\n",
      "718/718 - 19s - loss: 0.2325 - val_loss: 0.2271 - lr: 9.5053e-04 - 19s/epoch - 27ms/step\n",
      "\n",
      "Epoch 3: LearningRateScheduler setting learning rate to 0.0008119331560284375.\n",
      "Epoch 3/8\n",
      "718/718 - 20s - loss: 0.2283 - val_loss: 0.2265 - lr: 8.1193e-04 - 20s/epoch - 29ms/step\n",
      "\n",
      "Epoch 4: LearningRateScheduler setting learning rate to 0.0006116492065111791.\n",
      "Epoch 4/8\n",
      "718/718 - 22s - loss: 0.2249 - val_loss: 0.2249 - lr: 6.1165e-04 - 22s/epoch - 31ms/step\n",
      "\n",
      "Epoch 5: LearningRateScheduler setting learning rate to 0.00038935079348882104.\n",
      "Epoch 5/8\n",
      "718/718 - 19s - loss: 0.2216 - val_loss: 0.2225 - lr: 3.8935e-04 - 19s/epoch - 27ms/step\n",
      "\n",
      "Epoch 6: LearningRateScheduler setting learning rate to 0.00018906684397156263.\n",
      "Epoch 6/8\n",
      "718/718 - 19s - loss: 0.2180 - val_loss: 0.2214 - lr: 1.8907e-04 - 19s/epoch - 27ms/step\n",
      "\n",
      "Epoch 7: LearningRateScheduler setting learning rate to 5.046605048274169e-05.\n",
      "Epoch 7/8\n",
      "718/718 - 20s - loss: 0.2148 - val_loss: 0.2216 - lr: 5.0466e-05 - 20s/epoch - 27ms/step\n",
      "\n",
      "Epoch 8: LearningRateScheduler setting learning rate to 1e-06.\n",
      "Epoch 8/8\n",
      "718/718 - 21s - loss: 0.2136 - val_loss: 0.2214 - lr: 1.0000e-06 - 21s/epoch - 29ms/step\n",
      "180/180 - 3s - 3s/epoch - 16ms/step\n",
      "\n",
      "Fold 5 CV= 0.7898763578018534\n",
      "\n",
      "#########################\n",
      "Overall CV =  0.7865288724287447\n"
     ]
    }
   ],
   "source": [
    "if TRAIN_MODEL:\n",
    "\n",
    "    # save true and oof --\n",
    "    true = np.array([])\n",
    "    oof = np.array([])\n",
    "    VERBOSE = 2  # use 1 for interactive --\n",
    "\n",
    "    for fold in range(5):\n",
    "\n",
    "        # indices of train and valid folds --\n",
    "        valid_idx = [2*fold+1, 2*fold+2]\n",
    "        train_idx = [x for x in [1,2,3,4,5,6,7,8,9,10] if x not in valid_idx]\n",
    "        print(\"#\"*25)\n",
    "        print(f\"### Fold {fold+1} with valid files\", valid_idx)\n",
    "\n",
    "        # read train data from disk --\n",
    "        X_train = []; y_train = []\n",
    "        for k in train_idx:\n",
    "            X_train.append(np.load(f\"{PATH_TO_DATA}data_{k}.npy\"))\n",
    "            y_train.append(pd.read_parquet(f\"{PATH_TO_DATA}targets_{k}.pqt\"))\n",
    "        X_train = np.concatenate(X_train, axis=0)\n",
    "        y_train = pd.concat(y_train).target.values\n",
    "        print(\"### Training data shapes\", X_train.shape, y_train.shape)\n",
    "\n",
    "        # read valid data from disk --\n",
    "        X_valid = []; y_valid = []\n",
    "        for k in valid_idx:\n",
    "            X_valid.append(np.load(f\"{PATH_TO_DATA}data_{k}.npy\"))\n",
    "            y_valid.append(pd.read_parquet(f\"{PATH_TO_DATA}targets_{k}.pqt\"))\n",
    "        X_valid = np.concatenate(X_valid, axis=0)\n",
    "        y_valid = pd.concat(y_valid).target.values\n",
    "        print(\"### Validation data shapes\", X_valid.shape, y_valid.shape)\n",
    "        print(\"#\"*25)\n",
    "\n",
    "        # build and train model --\n",
    "        K.clear_session()\n",
    "        model = build_model()\n",
    "        h = model.fit(\n",
    "            X_train, y_train,\n",
    "            validation_data = (X_valid, y_valid),\n",
    "            batch_size=512, epochs=EPOCHS, verbose=VERBOSE,\n",
    "            callbacks=[LR]\n",
    "        )\n",
    "\n",
    "        if not os.path.exists(PATH_TO_MODEL): os.makedirs(PATH_TO_MODEL)\n",
    "        model.save_weights(f\"{PATH_TO_MODEL}transformer_fold_{fold+1}.h5\")\n",
    "\n",
    "        # infer valid data --\n",
    "        p = model.predict(X_valid, batch_size=512, verbose=VERBOSE).flatten()\n",
    "\n",
    "        print()\n",
    "        print(f\"Fold {fold+1} CV=\", amex_metric_mod(y_valid, p))\n",
    "        print()\n",
    "        true = np.concatenate([true, y_valid])\n",
    "        oof = np.concatenate([oof, p])\n",
    "\n",
    "        # clean memory --\n",
    "        del model, X_train, y_train, X_valid, y_valid, p; gc.collect()\n",
    "\n",
    "    # print overall results --\n",
    "    print(\"#\"*25)\n",
    "    print(f\"Overall CV = \", amex_metric_mod(true, oof))\n"
   ]
  },
  {
   "cell_type": "markdown",
   "metadata": {},
   "source": [
    "### Infer Test data"
   ]
  },
  {
   "cell_type": "markdown",
   "metadata": {},
   "source": []
  }
 ],
 "metadata": {
  "kernelspec": {
   "display_name": "Python 3.9.0 64-bit",
   "language": "python",
   "name": "python3"
  },
  "language_info": {
   "codemirror_mode": {
    "name": "ipython",
    "version": 3
   },
   "file_extension": ".py",
   "mimetype": "text/x-python",
   "name": "python",
   "nbconvert_exporter": "python",
   "pygments_lexer": "ipython3",
   "version": "3.9.0"
  },
  "orig_nbformat": 4,
  "vscode": {
   "interpreter": {
    "hash": "81794d4967e6c3204c66dcd87b604927b115b27c00565d3d43f05ba2f3a2cb0d"
   }
  }
 },
 "nbformat": 4,
 "nbformat_minor": 2
}

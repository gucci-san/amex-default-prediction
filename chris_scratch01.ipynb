{
 "cells": [
  {
   "cell_type": "markdown",
   "metadata": {},
   "source": [
    "## Chris, TFの自作らへんを色々見てみる"
   ]
  },
  {
   "cell_type": "code",
   "execution_count": 13,
   "metadata": {},
   "outputs": [
    {
     "name": "stdout",
     "output_type": "stream",
     "text": [
      "Using TensorFlow version 2.10.0\n"
     ]
    }
   ],
   "source": [
    "import numpy as np\n",
    "import pandas as pd\n",
    "import matplotlib.pyplot as plt\n",
    "import gc, os\n",
    "\n",
    "import tensorflow as tf\n",
    "import tensorflow.keras.backend as K\n",
    "from tensorflow import keras\n",
    "from tensorflow.keras import layers\n",
    "\n",
    "print(\"Using TensorFlow version\", tf.__version__)"
   ]
  },
  {
   "cell_type": "code",
   "execution_count": 14,
   "metadata": {},
   "outputs": [],
   "source": [
    "class TransformerBlock(layers.Layer):\n",
    "    def __init__(self, embed_dim, feat_dim, num_heads, ff_dim, rate=0.1):\n",
    "        super(TransformerBlock, self).__init__()\n",
    "        self.att = layers.MultiHeadAttention(num_heads=num_heads, key_dim=embed_dim)\n",
    "        self.ffn = keras.Sequential(\n",
    "            [\n",
    "                layers.Dense(ff_dim, activation=\"gelu\"),\n",
    "                layers.Dense(feat_dim)\n",
    "            ]\n",
    "        )\n",
    "        self.layernorm1 = layers.LayerNormalization(epsilon=1e-6)\n",
    "        self.layernorm2 = layers.LayerNormalization(epsilon=1e-6)\n",
    "        self.dropout1 = layers.Dropout(rate)\n",
    "        self.dropout2 = layers.Dropout(rate)\n",
    "\n",
    "    def call(self, inputs, training):\n",
    "        attn_output = self.att(inputs, inputs)\n",
    "        attn_output = self.dropout1(attn_output, training=training)\n",
    "        out1 = self.layernorm1(inputs + attn_output)\n",
    "        ffn_output = self.ffn(out1)\n",
    "        ffn_output = self.dropout2(ffn_output, training=training)\n",
    "        return self.layernorm2(out1 + ffn_output)\n",
    "\n",
    "feat_dim = 188\n",
    "embed_dim = 64 # embedding size for attention --\n",
    "num_heads = 4 # number of attention heads --\n",
    "ff_dim = 128 # hidden layer size in feed forward network inside transformer --\n",
    "dropout_rate = 0.3\n",
    "num_blocks = 2"
   ]
  },
  {
   "cell_type": "code",
   "execution_count": 15,
   "metadata": {},
   "outputs": [],
   "source": [
    "def build_model():\n",
    "\n",
    "    # input embedding layer --\n",
    "    inp = layers.Input(shape=(13, 188))  # *\n",
    "    embeddings = []  # **\n",
    "    for k in range(11):   # たぶんindex=0~10がカテゴリfeatureで、それを分散表現に変えてる\n",
    "        emb = layers.Embedding(10, 4)\n",
    "        embeddings.append(emb(inp[:, :, k]))\n",
    "    x = layers.Concatenate()([inp[:, :, 11:]]+embeddings) # ***\n",
    "    x = layers.Dense(feat_dim)(x) # つまり、221:[category*4] + [num] -> 188に戻してる --\n",
    "\n",
    "    # transformer blocks --\n",
    "    for k in range(num_blocks):\n",
    "        x_old = x\n",
    "        transformer_block = TransformerBlock(embed_dim, feat_dim, num_heads, ff_dim, dropout_rate)\n",
    "        x = transformer_block(x)\n",
    "        x = 0.9*x + 0.1*x_old  # skip connection --\n",
    "    \n",
    "    # classification head --\n",
    "    x = layers.Dense(64, activation=\"relu\")(x[:,-1,:])\n",
    "    x = layers.Dense(32, activation=\"relu\")(x)\n",
    "    outputs = layers.Dense(1, activation=\"sigmoid\")(x)\n",
    "\n",
    "    model = keras.Model(inputs=inp, outputs=outputs)\n",
    "    opt = tf.keras.optimizers.Adam(learning_rate=0.001)\n",
    "    loss = tf.keras.losses.BinaryCrossentropy()\n",
    "    model.compile(loss=loss, optimizer=opt)\n",
    "\n",
    "    return model\n",
    "\n",
    "model1 = build_model()"
   ]
  },
  {
   "cell_type": "code",
   "execution_count": 20,
   "metadata": {},
   "outputs": [
    {
     "name": "stdout",
     "output_type": "stream",
     "text": [
      "Model: \"model\"\n",
      "__________________________________________________________________________________________________\n",
      " Layer (type)                   Output Shape         Param #     Connected to                     \n",
      "==================================================================================================\n",
      " input_1 (InputLayer)           [(None, 13, 188)]    0           []                               \n",
      "                                                                                                  \n",
      " tf.__operators__.getitem (Slic  (None, 13)          0           ['input_1[0][0]']                \n",
      " ingOpLambda)                                                                                     \n",
      "                                                                                                  \n",
      " tf.__operators__.getitem_1 (Sl  (None, 13)          0           ['input_1[0][0]']                \n",
      " icingOpLambda)                                                                                   \n",
      "                                                                                                  \n",
      " tf.__operators__.getitem_2 (Sl  (None, 13)          0           ['input_1[0][0]']                \n",
      " icingOpLambda)                                                                                   \n",
      "                                                                                                  \n",
      " tf.__operators__.getitem_3 (Sl  (None, 13)          0           ['input_1[0][0]']                \n",
      " icingOpLambda)                                                                                   \n",
      "                                                                                                  \n",
      " tf.__operators__.getitem_4 (Sl  (None, 13)          0           ['input_1[0][0]']                \n",
      " icingOpLambda)                                                                                   \n",
      "                                                                                                  \n",
      " tf.__operators__.getitem_5 (Sl  (None, 13)          0           ['input_1[0][0]']                \n",
      " icingOpLambda)                                                                                   \n",
      "                                                                                                  \n",
      " tf.__operators__.getitem_6 (Sl  (None, 13)          0           ['input_1[0][0]']                \n",
      " icingOpLambda)                                                                                   \n",
      "                                                                                                  \n",
      " tf.__operators__.getitem_7 (Sl  (None, 13)          0           ['input_1[0][0]']                \n",
      " icingOpLambda)                                                                                   \n",
      "                                                                                                  \n",
      " tf.__operators__.getitem_8 (Sl  (None, 13)          0           ['input_1[0][0]']                \n",
      " icingOpLambda)                                                                                   \n",
      "                                                                                                  \n",
      " tf.__operators__.getitem_9 (Sl  (None, 13)          0           ['input_1[0][0]']                \n",
      " icingOpLambda)                                                                                   \n",
      "                                                                                                  \n",
      " tf.__operators__.getitem_10 (S  (None, 13)          0           ['input_1[0][0]']                \n",
      " licingOpLambda)                                                                                  \n",
      "                                                                                                  \n",
      " tf.__operators__.getitem_11 (S  (None, 13, 177)     0           ['input_1[0][0]']                \n",
      " licingOpLambda)                                                                                  \n",
      "                                                                                                  \n",
      " embedding (Embedding)          (None, 13, 4)        40          ['tf.__operators__.getitem[0][0]'\n",
      "                                                                 ]                                \n",
      "                                                                                                  \n",
      " embedding_1 (Embedding)        (None, 13, 4)        40          ['tf.__operators__.getitem_1[0][0\n",
      "                                                                 ]']                              \n",
      "                                                                                                  \n",
      " embedding_2 (Embedding)        (None, 13, 4)        40          ['tf.__operators__.getitem_2[0][0\n",
      "                                                                 ]']                              \n",
      "                                                                                                  \n",
      " embedding_3 (Embedding)        (None, 13, 4)        40          ['tf.__operators__.getitem_3[0][0\n",
      "                                                                 ]']                              \n",
      "                                                                                                  \n",
      " embedding_4 (Embedding)        (None, 13, 4)        40          ['tf.__operators__.getitem_4[0][0\n",
      "                                                                 ]']                              \n",
      "                                                                                                  \n",
      " embedding_5 (Embedding)        (None, 13, 4)        40          ['tf.__operators__.getitem_5[0][0\n",
      "                                                                 ]']                              \n",
      "                                                                                                  \n",
      " embedding_6 (Embedding)        (None, 13, 4)        40          ['tf.__operators__.getitem_6[0][0\n",
      "                                                                 ]']                              \n",
      "                                                                                                  \n",
      " embedding_7 (Embedding)        (None, 13, 4)        40          ['tf.__operators__.getitem_7[0][0\n",
      "                                                                 ]']                              \n",
      "                                                                                                  \n",
      " embedding_8 (Embedding)        (None, 13, 4)        40          ['tf.__operators__.getitem_8[0][0\n",
      "                                                                 ]']                              \n",
      "                                                                                                  \n",
      " embedding_9 (Embedding)        (None, 13, 4)        40          ['tf.__operators__.getitem_9[0][0\n",
      "                                                                 ]']                              \n",
      "                                                                                                  \n",
      " embedding_10 (Embedding)       (None, 13, 4)        40          ['tf.__operators__.getitem_10[0][\n",
      "                                                                 0]']                             \n",
      "                                                                                                  \n",
      " concatenate (Concatenate)      (None, 13, 221)      0           ['tf.__operators__.getitem_11[0][\n",
      "                                                                 0]',                             \n",
      "                                                                  'embedding[0][0]',              \n",
      "                                                                  'embedding_1[0][0]',            \n",
      "                                                                  'embedding_2[0][0]',            \n",
      "                                                                  'embedding_3[0][0]',            \n",
      "                                                                  'embedding_4[0][0]',            \n",
      "                                                                  'embedding_5[0][0]',            \n",
      "                                                                  'embedding_6[0][0]',            \n",
      "                                                                  'embedding_7[0][0]',            \n",
      "                                                                  'embedding_8[0][0]',            \n",
      "                                                                  'embedding_9[0][0]',            \n",
      "                                                                  'embedding_10[0][0]']           \n",
      "                                                                                                  \n",
      " dense_5 (Dense)                (None, 13, 188)      41736       ['concatenate[0][0]']            \n",
      "                                                                                                  \n",
      " transformer_block_1 (Transform  (None, 13, 188)     242664      ['dense_5[0][0]']                \n",
      " erBlock)                                                                                         \n",
      "                                                                                                  \n",
      " tf.math.multiply (TFOpLambda)  (None, 13, 188)      0           ['transformer_block_1[0][0]']    \n",
      "                                                                                                  \n",
      " tf.math.multiply_1 (TFOpLambda  (None, 13, 188)     0           ['dense_5[0][0]']                \n",
      " )                                                                                                \n",
      "                                                                                                  \n",
      " tf.__operators__.add (TFOpLamb  (None, 13, 188)     0           ['tf.math.multiply[0][0]',       \n",
      " da)                                                              'tf.math.multiply_1[0][0]']     \n",
      "                                                                                                  \n",
      " transformer_block_2 (Transform  (None, 13, 188)     242664      ['tf.__operators__.add[0][0]']   \n",
      " erBlock)                                                                                         \n",
      "                                                                                                  \n",
      " tf.math.multiply_2 (TFOpLambda  (None, 13, 188)     0           ['transformer_block_2[0][0]']    \n",
      " )                                                                                                \n",
      "                                                                                                  \n",
      " tf.math.multiply_3 (TFOpLambda  (None, 13, 188)     0           ['tf.__operators__.add[0][0]']   \n",
      " )                                                                                                \n",
      "                                                                                                  \n",
      " tf.__operators__.add_1 (TFOpLa  (None, 13, 188)     0           ['tf.math.multiply_2[0][0]',     \n",
      " mbda)                                                            'tf.math.multiply_3[0][0]']     \n",
      "                                                                                                  \n",
      " tf.__operators__.getitem_12 (S  (None, 188)         0           ['tf.__operators__.add_1[0][0]'] \n",
      " licingOpLambda)                                                                                  \n",
      "                                                                                                  \n",
      " dense_10 (Dense)               (None, 64)           12096       ['tf.__operators__.getitem_12[0][\n",
      "                                                                 0]']                             \n",
      "                                                                                                  \n",
      " dense_11 (Dense)               (None, 32)           2080        ['dense_10[0][0]']               \n",
      "                                                                                                  \n",
      " dense_12 (Dense)               (None, 1)            33          ['dense_11[0][0]']               \n",
      "                                                                                                  \n",
      "==================================================================================================\n",
      "Total params: 541,713\n",
      "Trainable params: 541,713\n",
      "Non-trainable params: 0\n",
      "__________________________________________________________________________________________________\n"
     ]
    }
   ],
   "source": [
    "model1.summary()"
   ]
  },
  {
   "cell_type": "code",
   "execution_count": 19,
   "metadata": {},
   "outputs": [],
   "source": [
    "model2 = tf.keras.models.Sequential([\n",
    "    tf.keras.layers.Flatten(input_shape=(13, 188)),\n",
    "    tf.keras.layers.Dense(128, activation=\"relu\"),\n",
    "    tf.keras.layers.Dropout(0.2),\n",
    "    tf.keras.layers.Dense(10)\n",
    "])"
   ]
  },
  {
   "cell_type": "code",
   "execution_count": 21,
   "metadata": {},
   "outputs": [
    {
     "name": "stdout",
     "output_type": "stream",
     "text": [
      "Model: \"sequential_4\"\n",
      "_________________________________________________________________\n",
      " Layer (type)                Output Shape              Param #   \n",
      "=================================================================\n",
      " flatten_1 (Flatten)         (None, 2444)              0         \n",
      "                                                                 \n",
      " dense_15 (Dense)            (None, 128)               312960    \n",
      "                                                                 \n",
      " dropout_7 (Dropout)         (None, 128)               0         \n",
      "                                                                 \n",
      " dense_16 (Dense)            (None, 10)                1290      \n",
      "                                                                 \n",
      "=================================================================\n",
      "Total params: 314,250\n",
      "Trainable params: 314,250\n",
      "Non-trainable params: 0\n",
      "_________________________________________________________________\n"
     ]
    }
   ],
   "source": [
    "model2.summary()"
   ]
  },
  {
   "cell_type": "markdown",
   "metadata": {},
   "source": [
    "### メモ\n",
    "* inpはバッチサイズを落として2Dで指定してる\n",
    "* pytorchのforward(x)的な書き方で書いてあるからよくわからんな..."
   ]
  },
  {
   "cell_type": "markdown",
   "metadata": {},
   "source": [
    "## ChrisのTFモデルを1行ずつやっていく --"
   ]
  },
  {
   "cell_type": "code",
   "execution_count": 26,
   "metadata": {},
   "outputs": [
    {
     "data": {
      "text/plain": [
       "(100, 13, 188)"
      ]
     },
     "execution_count": 26,
     "metadata": {},
     "output_type": "execute_result"
    }
   ],
   "source": [
    "# デモ入力\n",
    "X_train = np.ones(100*13*188).reshape(100, 13, 188)\n",
    "X_train.shape"
   ]
  },
  {
   "cell_type": "code",
   "execution_count": 54,
   "metadata": {},
   "outputs": [],
   "source": [
    "def build_model():\n",
    "    inp = layers.Input(shape=(13, 188))\n",
    "    output = layers.Dense(1, activation=None)(inp)\n",
    "    model = keras.Model(inputs=inp, outputs=output)\n",
    "\n",
    "    opt = tf.keras.optimizers.Adam(learning_rate=0.001)\n",
    "    loss = tf.keras.losses.BinaryCrossentropy()\n",
    "    model.compile(loss=loss, optimizer=opt)\n",
    "    return model\n",
    "model = build_model()"
   ]
  },
  {
   "cell_type": "code",
   "execution_count": 99,
   "metadata": {},
   "outputs": [],
   "source": [
    "inp = layers.Input(shape=(13, 188))\n",
    "embeddings = []\n",
    "for k in range(11):\n",
    "    emb = layers.Embedding(10, 4)\n",
    "    embeddings.append(emb(inp[:, :, k]))\n",
    "x1 = layers.Concatenate()([inp[:, :, 11:]]+embeddings) # ***\n",
    "x2 = layers.Dense(feat_dim)(x)  # feat_dim=188, activation=None --\n",
    "\n",
    "tb1 = TransformerBlock(embed_dim, feat_dim, num_heads, ff_dim, dropout_rate)\n",
    "\n",
    "x3 = tb1(x2)\n",
    "x4 = 0.9*x3 + 0.1*x2\n",
    "\n",
    "tb2 = TransformerBlock(embed_dim, feat_dim, num_heads, ff_dim, dropout_rate)\n",
    "\n",
    "x5 = tb2(x4)\n",
    "x6 = 0.9*x5 + 0.1*x4\n",
    "    ## classification head --\n",
    "    #x = layers.Dense(64, activation=\"relu\")(x[:,-1,:])\n",
    "    #x = layers.Dense(32, activation=\"relu\")(x)\n",
    "    #outputs = layers.Dense(1, activation=\"sigmoid\")(x)\n",
    "\n",
    "x7 = layers.Dense(64, activation=\"relu\")(x6[:, -1, :])  # ここで時間方向の軸を最終行のみスライス --\n",
    "x8 = layers.Dense(32, activation=\"relu\")(x7)\n",
    "outputs = layers.Dense(1, activation=\"sigmoid\")(x8)\n"
   ]
  },
  {
   "cell_type": "code",
   "execution_count": 100,
   "metadata": {},
   "outputs": [
    {
     "name": "stdout",
     "output_type": "stream",
     "text": [
      "(None, 13)\n",
      "(None, 13, 4)\n",
      "(None, 13, 188)\n",
      "(None, 13, 221)\n",
      "(None, 13, 188)\n",
      "(None, 13, 188)\n",
      "(None, 13, 188)\n",
      "(None, 13, 188)\n",
      "(None, 13, 188)\n",
      "(None, 64)\n"
     ]
    }
   ],
   "source": [
    "print(inp[:, :, k].shape)\n",
    "print(emb(inp[:, :, k]).shape)  # (batch_size, sequence_length) -> <emb> -> (batch_size, sequence_length, embed_dim) --\n",
    "\n",
    "\n",
    "print(inp.shape)\n",
    "print(x1.shape)  # shape[2] = 188 + 4*10 \n",
    "print(x2.shape)\n",
    "print(x3.shape)\n",
    "print(x4.shape)\n",
    "print(x5.shape)\n",
    "print(x6.shape)\n",
    "print(x7.shape)\n",
    "print(x8.shape)\n",
    "print(x9.shape)\n",
    "print(outputs.shape)"
   ]
  },
  {
   "cell_type": "markdown",
   "metadata": {},
   "source": [
    "## embedding layerについて"
   ]
  },
  {
   "cell_type": "code",
   "execution_count": 84,
   "metadata": {},
   "outputs": [
    {
     "data": {
      "text/plain": [
       "<tf.Tensor: shape=(2, 3, 2), dtype=float32, numpy=\n",
       "array([[[1., 2.],\n",
       "        [3., 4.],\n",
       "        [7., 8.]],\n",
       "\n",
       "       [[1., 2.],\n",
       "        [3., 4.],\n",
       "        [5., 6.]]], dtype=float32)>"
      ]
     },
     "execution_count": 84,
     "metadata": {},
     "output_type": "execute_result"
    }
   ],
   "source": [
    "# だいたい辞書みたいな感じ --\n",
    "initializer = tf.keras.initializers.Constant(\n",
    "    value=[\n",
    "        [1, 2],\n",
    "        [3, 4],\n",
    "        [5, 6],\n",
    "        [7, 8],\n",
    "        [9, 10],\n",
    "    ]\n",
    ")\n",
    "embedding_layer = tf.keras.layers.Embedding(5, 2, embeddings_initializer=initializer)\n",
    "embedding_layer(inputs=tf.constant([[0, 1, 3], [0, 1, 2]]))  # 対応するインデックスのinitializerを取り出す --"
   ]
  },
  {
   "cell_type": "code",
   "execution_count": 88,
   "metadata": {},
   "outputs": [
    {
     "name": "stdout",
     "output_type": "stream",
     "text": [
      "Model: \"sequential_7\"\n",
      "_________________________________________________________________\n",
      " Layer (type)                Output Shape              Param #   \n",
      "=================================================================\n",
      " embedding_93 (Embedding)    (None, None, 2)           10        \n",
      "                                                                 \n",
      "=================================================================\n",
      "Total params: 10\n",
      "Trainable params: 10\n",
      "Non-trainable params: 0\n",
      "_________________________________________________________________\n"
     ]
    }
   ],
   "source": [
    "# で、分散表現のinitalizer自体がパラメータになる。今は5*2なので、#Params = 10 --\n",
    "model = keras.Sequential(\n",
    "    embedding_layer\n",
    ")\n",
    "model.summary()"
   ]
  },
  {
   "cell_type": "markdown",
   "metadata": {},
   "source": [
    "## TransformerBlockについて"
   ]
  },
  {
   "cell_type": "code",
   "execution_count": null,
   "metadata": {},
   "outputs": [],
   "source": []
  }
 ],
 "metadata": {
  "kernelspec": {
   "display_name": "Python 3.9.0 ('.venv': poetry)",
   "language": "python",
   "name": "python3"
  },
  "language_info": {
   "codemirror_mode": {
    "name": "ipython",
    "version": 3
   },
   "file_extension": ".py",
   "mimetype": "text/x-python",
   "name": "python",
   "nbconvert_exporter": "python",
   "pygments_lexer": "ipython3",
   "version": "3.9.0"
  },
  "orig_nbformat": 4,
  "vscode": {
   "interpreter": {
    "hash": "2c9dc2bb3660e5394dad5ee4570d30151623b1a4b0311416933d32e8c68e1128"
   }
  }
 },
 "nbformat": 4,
 "nbformat_minor": 2
}

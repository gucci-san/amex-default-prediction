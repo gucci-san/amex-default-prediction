{
 "cells": [
  {
   "cell_type": "markdown",
   "metadata": {},
   "source": [
    "## S5_LGB_main.py"
   ]
  },
  {
   "cell_type": "code",
   "execution_count": 1,
   "metadata": {},
   "outputs": [
    {
     "name": "stdout",
     "output_type": "stream",
     "text": [
      "available gpus: [0]\n"
     ]
    }
   ],
   "source": [
    "import warnings\n",
    "warnings.simplefilter(\"ignore\")\n",
    "\n",
    "import pandas as pd\n",
    "import numpy as np\n",
    "import matplotlib.pyplot as plt\n",
    "import gc,os,random\n",
    "import time,datetime\n",
    "from tqdm import tqdm\n",
    "from sklearn.preprocessing import LabelEncoder\n",
    "\n",
    "from utils import *\n",
    "from model import *\n",
    "root = args.root\n",
    "seed = args.seed"
   ]
  },
  {
   "cell_type": "code",
   "execution_count": 2,
   "metadata": {},
   "outputs": [],
   "source": [
    "df = pd.read_feather(f\"{root}/all_feature.feather\")"
   ]
  },
  {
   "cell_type": "code",
   "execution_count": 3,
   "metadata": {},
   "outputs": [],
   "source": [
    "train_y = pd.read_csv(f\"/mnt/sdb/KAGGLE_DATA/amex-default-prediction/train_labels.csv\")"
   ]
  },
  {
   "cell_type": "code",
   "execution_count": 4,
   "metadata": {},
   "outputs": [
    {
     "data": {
      "text/plain": [
       "0"
      ]
     },
     "execution_count": 4,
     "metadata": {},
     "output_type": "execute_result"
    }
   ],
   "source": [
    "train = df[:train_y.shape[0]]\n",
    "train[\"target\"] = train_y[\"target\"]\n",
    "test = df[train_y.shape[0]:].reset_index(drop=True)\n",
    "del df; gc.collect()"
   ]
  },
  {
   "cell_type": "code",
   "execution_count": 5,
   "metadata": {},
   "outputs": [
    {
     "name": "stdout",
     "output_type": "stream",
     "text": [
      "(458913, 6390) (924621, 6389)\n"
     ]
    }
   ],
   "source": [
    "print(train.shape, test.shape)"
   ]
  },
  {
   "cell_type": "code",
   "execution_count": 6,
   "metadata": {},
   "outputs": [],
   "source": [
    "lgb_config = {\n",
    "    \"lgb_params\": {\n",
    "        \"objective\": \"binary\",\n",
    "        \"metric\": \"binary_logloss\",\n",
    "        \"boosting\": \"dart\",\n",
    "        \"max_depth\": -1,\n",
    "        \"num_leaves\": 64,\n",
    "        \"learning_rate\": 0.035,\n",
    "        \"bagging_freq\": 5,\n",
    "        \"bagging_fraction\": 0.75,\n",
    "        \"feature_fraction\": 0.05,\n",
    "        \"min_data_in_leaf\": 256,\n",
    "        \"max_bin\": 63,\n",
    "        \"min_data_in_bin\": 256,\n",
    "        #\"min_sum_hessian_in_leaf\": 10,\n",
    "        \"tree_learner\": \"serial\",\n",
    "        \"boost_from_average\": \"false\",\n",
    "        \"lambda_l1\": 0.1,\n",
    "        \"lambda_l2\": 30,\n",
    "        \"num_threads\": 16,\n",
    "        \"verbosity\": 1\n",
    "    },\n",
    "    \"feature_name\": [],\n",
    "    \"rounds\": 4500,\n",
    "    \"early_stopping_rounds\": 100,\n",
    "    \"verbose_eval\": 50,\n",
    "    \"folds\": 5,\n",
    "    \"seed\": seed,\n",
    "}"
   ]
  },
  {
   "cell_type": "markdown",
   "metadata": {},
   "source": [
    "### trainとtest同時にやろうとするとメモリ終わるので、分けてやる必要アリ\n",
    "* さらにtestは1発だとメモリ乗り切らないのでわけないといけない"
   ]
  },
  {
   "cell_type": "code",
   "execution_count": 7,
   "metadata": {},
   "outputs": [],
   "source": [
    "batch_num = 5\n",
    "batch_size = test.shape[0] // batch_num\n",
    "batch_amari = test.shape[0] - batch_size*batch_num"
   ]
  },
  {
   "cell_type": "code",
   "execution_count": 8,
   "metadata": {},
   "outputs": [],
   "source": [
    "BATCH_ID = 4\n",
    "assert BATCH_ID < batch_num, \"BATCH_ID must be lower than batch_num\""
   ]
  },
  {
   "cell_type": "code",
   "execution_count": 9,
   "metadata": {},
   "outputs": [],
   "source": [
    "if BATCH_ID == (batch_num-1):\n",
    "    test = test.iloc[batch_size*BATCH_ID:(batch_size*(BATCH_ID+1) + batch_amari)]\n",
    "else:\n",
    "    test = test.iloc[batch_size*BATCH_ID:(batch_size*(BATCH_ID+1))]"
   ]
  },
  {
   "cell_type": "code",
   "execution_count": 10,
   "metadata": {},
   "outputs": [
    {
     "data": {
      "text/plain": [
       "0"
      ]
     },
     "execution_count": 10,
     "metadata": {},
     "output_type": "execute_result"
    }
   ],
   "source": [
    "lgb_config['feature_name'] = [col for col in train.columns if col not in [id_name,label_name,'S_2'] and 'target' not in col]\n",
    "del train; gc.collect()"
   ]
  },
  {
   "cell_type": "code",
   "execution_count": 11,
   "metadata": {},
   "outputs": [
    {
     "name": "stderr",
     "output_type": "stream",
     "text": [
      "cp: cannot stat './*.sh': No such file or directory\n"
     ]
    },
    {
     "name": "stdout",
     "output_type": "stream",
     "text": [
      "\u001b[33m Lgb_train_and_predict : LGB_with_manual_feature\u001b[39m\n"
     ]
    },
    {
     "name": "stderr",
     "output_type": "stream",
     "text": [
      "100%|██████████| 5/5 [01:48<00:00, 21.68s/it]\n"
     ]
    },
    {
     "data": {
      "text/plain": [
       "(None,\n",
       "                                               customer_ID  prediction\n",
       " 739696  cccebdb0ebf7f3c98c5b8d72a9375f7ff6fe09f123b668...    0.060926\n",
       " 739697  cccebec87d75006aa0ce200f2a8173d861ecdf5a8b6a1a...    0.629057\n",
       " 739698  ccced959647957553808df60a4de7719a8c04853570b6d...    0.573951\n",
       " 739699  cccf12af1b620b95393d292b337abf65b30cebaaa89c55...    0.590253\n",
       " 739700  cccf313ba6a4885cc8b68cbf4af5d38ba1942d173f0195...    0.948561\n",
       " ...                                                   ...         ...\n",
       " 924616  ffff952c631f2c911b8a2a8ca56ea6e656309a83d2f64c...    0.011252\n",
       " 924617  ffffcf5df59e5e0bba2a5ac4578a34e2b5aa64a1546cd3...    0.865559\n",
       " 924618  ffffd61f098cc056dbd7d2a21380c4804bbfe60856f475...    0.380820\n",
       " 924619  ffffddef1fc3643ea179c93245b68dca0f36941cd83977...    0.235823\n",
       " 924620  fffffa7cf7e453e1acc6a1426475d5cb9400859f82ff61...    0.057372\n",
       " \n",
       " [184925 rows x 2 columns],\n",
       " (None, None))"
      ]
     },
     "execution_count": 11,
     "metadata": {},
     "output_type": "execute_result"
    }
   ],
   "source": [
    "Lgb_train_and_predict(train=None, test=test, config=lgb_config, test_batch_id=BATCH_ID, aug=None, run_id='LGB_with_manual_feature')"
   ]
  },
  {
   "cell_type": "code",
   "execution_count": 12,
   "metadata": {},
   "outputs": [],
   "source": [
    "## lgb_config['feature_name'] = [col for col in train.columns if col not in [id_name,label_name,'S_2']]\n",
    "## Lgb_train_and_predict(train,test,lgb_config,aug=None,run_id='LGB_with_manual_feature_and_series_oof')"
   ]
  }
 ],
 "metadata": {
  "interpreter": {
   "hash": "9c90c4efae355953581131fe5eb685f809605ddb2abb7edf8826c72b30e930c0"
  },
  "kernelspec": {
   "display_name": "Python 3.9.6 ('.venv': poetry)",
   "language": "python",
   "name": "python3"
  },
  "language_info": {
   "codemirror_mode": {
    "name": "ipython",
    "version": 3
   },
   "file_extension": ".py",
   "mimetype": "text/x-python",
   "name": "python",
   "nbconvert_exporter": "python",
   "pygments_lexer": "ipython3",
   "version": "3.9.6"
  },
  "orig_nbformat": 4
 },
 "nbformat": 4,
 "nbformat_minor": 2
}

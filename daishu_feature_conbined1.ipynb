{
 "cells": [
  {
   "cell_type": "markdown",
   "metadata": {},
   "source": [
    "## S4_feature_conbined"
   ]
  },
  {
   "cell_type": "code",
   "execution_count": 5,
   "metadata": {},
   "outputs": [],
   "source": [
    "import warnings; warnings.simplefilter(\"ignore\")\n",
    "\n",
    "import gc\n",
    "import pandas as pd\n",
    "from tqdm import tqdm\n",
    "\n",
    "from utils import *"
   ]
  },
  {
   "cell_type": "code",
   "execution_count": 6,
   "metadata": {},
   "outputs": [],
   "source": [
    "oof = pd.read_csv(\"./output/LGB_with_series_feature/oof.csv\")\n",
    "sub = pd.read_csv(\"./output/LGB_with_series_feature/submission.csv\")"
   ]
  },
  {
   "cell_type": "code",
   "execution_count": 7,
   "metadata": {},
   "outputs": [],
   "source": [
    "def pad_target(x): # ここに渡すoof, subはgroupby(\"customer_ID\")もしてない(->customer_IDによって1~13レコード、数がバラバラ) --\n",
    "    t = np.zeros(13)\n",
    "    t[:-len(x)] = np.nan\n",
    "    t[-len(x):] = x\n",
    "    return list(t)"
   ]
  },
  {
   "cell_type": "code",
   "execution_count": 8,
   "metadata": {},
   "outputs": [],
   "source": [
    "tmp1 = oof.groupby(\"customer_ID\", sort=False)[\"target\"].agg(lambda x: pad_target(x))\n",
    "tmp2 = sub.groupby(\"customer_ID\", sort=False)[\"prediction\"].agg(lambda x: pad_target(x))\n",
    "\n",
    "tmp = tmp1.append(tmp2)\n",
    "tmp = pd.DataFrame(data=tmp.tolist(), columns=[\"target%s\"%i for i in range(1, 14)])"
   ]
  },
  {
   "cell_type": "code",
   "execution_count": 9,
   "metadata": {},
   "outputs": [
    {
     "name": "stdout",
     "output_type": "stream",
     "text": [
      "(1383534, 6389)\n"
     ]
    }
   ],
   "source": [
    "df = []\n",
    "for fn in [\"cat\", \"num\", \"diff\", \"rank_num\", \"last3_cat\", \"last3_num\", \"last3_diff\", \"last6_num\", \"ym_rank_num\"]:\n",
    "    if len(df) == 0:\n",
    "        df.append(pd.read_feather(f\"./input/{fn}_feature.feather\"))\n",
    "    else:\n",
    "        df.append(pd.read_feather(f\"./input/{fn}_feature.feather\").drop([id_name], axis=1))\n",
    "    if \"last\" in fn:\n",
    "        df[-1] = df[-1].add_prefix(\"_\".join(fn.split(\"_\")[:-1])+\"_\")\n",
    "df.append(tmp)\n",
    "df = pd.concat(df, axis=1)\n",
    "print(df.shape)\n",
    "df.to_feather(\"./input/all_feature.feather\")"
   ]
  },
  {
   "cell_type": "code",
   "execution_count": 10,
   "metadata": {},
   "outputs": [
    {
     "data": {
      "text/plain": [
       "0"
      ]
     },
     "execution_count": 10,
     "metadata": {},
     "output_type": "execute_result"
    }
   ],
   "source": [
    "del oof, sub, df; gc.collect()"
   ]
  },
  {
   "cell_type": "code",
   "execution_count": 11,
   "metadata": {},
   "outputs": [],
   "source": [
    "def one_hot_encoding(df, cols, is_drop=True):\n",
    "    for col in cols:\n",
    "        print(\"one hot encoding:\", col)\n",
    "        dummies = pd.get_dummies(pd.Series(df[col]), prefix=\"oneHot_%s\"%col)\n",
    "        df = pd.concat([df, dummies], axis=1)\n",
    "    if is_drop:\n",
    "        df.drop(cols, axis=1, inplace=True)\n",
    "    return df"
   ]
  },
  {
   "cell_type": "code",
   "execution_count": 12,
   "metadata": {},
   "outputs": [],
   "source": [
    "cat_features = [\"B_30\",\"B_38\",\"D_114\",\"D_116\",\"D_117\",\"D_120\",\"D_126\",\"D_63\",\"D_64\",\"D_66\",\"D_68\"]"
   ]
  },
  {
   "cell_type": "code",
   "execution_count": 13,
   "metadata": {},
   "outputs": [
    {
     "name": "stdout",
     "output_type": "stream",
     "text": [
      "one hot encoding: B_30\n",
      "one hot encoding: B_38\n",
      "one hot encoding: D_114\n",
      "one hot encoding: D_116\n",
      "one hot encoding: D_117\n",
      "one hot encoding: D_120\n",
      "one hot encoding: D_126\n",
      "one hot encoding: D_63\n",
      "one hot encoding: D_64\n",
      "one hot encoding: D_66\n",
      "one hot encoding: D_68\n"
     ]
    },
    {
     "name": "stderr",
     "output_type": "stream",
     "text": [
      "100%|██████████| 224/224 [00:48<00:00,  4.58it/s]\n"
     ]
    }
   ],
   "source": [
    "df = pd.read_feather(f\"./input/train_denoise.feather\").append(pd.read_feather(f\"./input/test_denoise.feather\")).reset_index(drop=True)\n",
    "df = df.drop([\"S_2\"], axis=1)\n",
    "df = one_hot_encoding(df, cat_features, True)\n",
    "\n",
    "for col in tqdm(df.columns):\n",
    "    if col not in [\"customer_ID\", \"S_2\"]:\n",
    "        df[col] /= 100\n",
    "    df[col] = df[col].fillna(0)\n",
    "df.to_feather(\"./input/nn_series.feather\")"
   ]
  }
 ],
 "metadata": {
  "interpreter": {
   "hash": "9c90c4efae355953581131fe5eb685f809605ddb2abb7edf8826c72b30e930c0"
  },
  "kernelspec": {
   "display_name": "Python 3.9.6 ('.venv': poetry)",
   "language": "python",
   "name": "python3"
  },
  "language_info": {
   "codemirror_mode": {
    "name": "ipython",
    "version": 3
   },
   "file_extension": ".py",
   "mimetype": "text/x-python",
   "name": "python",
   "nbconvert_exporter": "python",
   "pygments_lexer": "ipython3",
   "version": "3.9.6"
  },
  "orig_nbformat": 4
 },
 "nbformat": 4,
 "nbformat_minor": 2
}

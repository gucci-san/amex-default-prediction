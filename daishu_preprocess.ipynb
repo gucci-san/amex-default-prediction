{
 "cells": [
  {
   "cell_type": "markdown",
   "metadata": {},
   "source": [
    "## 1st place solution(daishu)のデータ読みこみ部分\n",
    "* S1"
   ]
  },
  {
   "cell_type": "code",
   "execution_count": 5,
   "metadata": {},
   "outputs": [],
   "source": [
    "import warnings\n",
    "warnings.simplefilter('ignore')\n",
    "\n",
    "import numpy as np\n",
    "import pandas as pd\n",
    "import dask.dataframe as dd\n",
    "import matplotlib.pyplot as plt\n",
    "from tqdm import tqdm\n",
    "\n",
    "from config import train_data_csv, test_data_csv, test_data_pickle\n",
    "\n",
    "def denoise(df):\n",
    "    df['D_63'] = df['D_63'].apply(lambda t: {'CR':0, 'XZ':1, 'XM':2, 'CO':3, 'CL':4, 'XL':5}[t]).astype(np.int8)\n",
    "    df['D_64'] = df['D_64'].apply(lambda t: {np.nan:-1, 'O':0, '-1':1, 'R':2, 'U':3}[t]).astype(np.int8)\n",
    "    for col in tqdm(df.columns):\n",
    "        if col not in ['customer_ID','S_2','D_63','D_64']:\n",
    "            df[col] = np.floor(df[col]*100)\n",
    "    return df\n",
    "\n",
    "\n",
    "def denoise_test(df):\n",
    "    df['D_63'] = df['D_63'].apply(lambda t: {'CR':0, 'XZ':1, 'XM':2, 'CO':3, 'CL':4, 'XL':5}[t]).astype(np.int8)\n",
    "    df[\"D_64\"] = df[\"D_64\"].fillna(-1)\n",
    "    df['D_64'] = df['D_64'].apply(lambda t: {'O':0, -1:-1, 'R':2, 'U':3}[t]).astype(np.int8)\n",
    "    for col in tqdm(df.columns):\n",
    "        if col not in ['customer_ID','S_2','D_63','D_64']:\n",
    "            df[col] = np.floor(df[col]*100)\n",
    "    return df"
   ]
  },
  {
   "cell_type": "code",
   "execution_count": 6,
   "metadata": {},
   "outputs": [
    {
     "name": "stderr",
     "output_type": "stream",
     "text": [
      "100%|██████████| 190/190 [00:43<00:00,  4.33it/s]\n"
     ]
    },
    {
     "data": {
      "text/plain": [
       "305"
      ]
     },
     "execution_count": 6,
     "metadata": {},
     "output_type": "execute_result"
    }
   ],
   "source": [
    "df_train = dd.read_csv(train_data_csv).compute()\n",
    "df_train = denoise(df_train)\n",
    "df_train.to_pickle(\"./input/train_denoise.pkl\")\n",
    "\n",
    "del df_train\n",
    "import gc; gc.collect()"
   ]
  },
  {
   "cell_type": "code",
   "execution_count": 7,
   "metadata": {},
   "outputs": [
    {
     "name": "stderr",
     "output_type": "stream",
     "text": [
      "100%|██████████| 190/190 [01:30<00:00,  2.11it/s]\n"
     ]
    }
   ],
   "source": [
    "df_test = dd.read_csv(test_data_csv).compute()\n",
    "df_test = denoise_test(df_test)\n",
    "df_test.to_pickle(\"./input/test_denoise.pkl\")"
   ]
  },
  {
   "cell_type": "code",
   "execution_count": null,
   "metadata": {},
   "outputs": [],
   "source": []
  }
 ],
 "metadata": {
  "interpreter": {
   "hash": "9c90c4efae355953581131fe5eb685f809605ddb2abb7edf8826c72b30e930c0"
  },
  "kernelspec": {
   "display_name": "Python 3.9.6 ('.venv': poetry)",
   "language": "python",
   "name": "python3"
  },
  "language_info": {
   "codemirror_mode": {
    "name": "ipython",
    "version": 3
   },
   "file_extension": ".py",
   "mimetype": "text/x-python",
   "name": "python",
   "nbconvert_exporter": "python",
   "pygments_lexer": "ipython3",
   "version": "3.9.6"
  },
  "orig_nbformat": 4
 },
 "nbformat": 4,
 "nbformat_minor": 2
}

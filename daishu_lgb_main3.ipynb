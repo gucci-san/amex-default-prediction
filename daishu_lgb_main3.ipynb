{
 "cells": [
  {
   "cell_type": "markdown",
   "metadata": {},
   "source": [
    "## バッチ処理したtestのfeatherをつなげるだけのnotebook"
   ]
  },
  {
   "cell_type": "code",
   "execution_count": 17,
   "metadata": {},
   "outputs": [],
   "source": [
    "import pandas as pd"
   ]
  },
  {
   "cell_type": "code",
   "execution_count": 18,
   "metadata": {},
   "outputs": [],
   "source": [
    "t0 = pd.read_feather(\"./output/LGB_with_manual_feature/test_batch/submission_batch0.feather\")\n",
    "t1 = pd.read_feather(\"./output/LGB_with_manual_feature/test_batch/submission_batch1.feather\")\n",
    "t2 = pd.read_feather(\"./output/LGB_with_manual_feature/test_batch/submission_batch2.feather\")\n",
    "t3 = pd.read_feather(\"./output/LGB_with_manual_feature/test_batch/submission_batch3.feather\")\n",
    "t4 = pd.read_feather(\"./output/LGB_with_manual_feature/test_batch/submission_batch4.feather\")"
   ]
  },
  {
   "cell_type": "code",
   "execution_count": 19,
   "metadata": {},
   "outputs": [],
   "source": [
    "submission = pd.concat([t0, t1, t2, t3, t4])"
   ]
  },
  {
   "cell_type": "code",
   "execution_count": 20,
   "metadata": {},
   "outputs": [],
   "source": [
    "submission = submission.sort_values(\"index\")"
   ]
  },
  {
   "cell_type": "code",
   "execution_count": 22,
   "metadata": {},
   "outputs": [],
   "source": [
    "submission = submission.drop([\"index\"], axis=1)"
   ]
  },
  {
   "cell_type": "code",
   "execution_count": 23,
   "metadata": {},
   "outputs": [],
   "source": [
    "submission = submission.reset_index(drop=True)"
   ]
  },
  {
   "cell_type": "code",
   "execution_count": 25,
   "metadata": {},
   "outputs": [],
   "source": [
    "submission.to_csv(\"./output/LGB_with_manual_feature/submission.csv.zip\", compression='zip',index=False)"
   ]
  },
  {
   "cell_type": "markdown",
   "metadata": {},
   "source": [
    "## --"
   ]
  },
  {
   "cell_type": "code",
   "execution_count": 26,
   "metadata": {},
   "outputs": [],
   "source": [
    "tt = pd.read_feather(\"./input/all_feature.feather\")"
   ]
  },
  {
   "cell_type": "code",
   "execution_count": 27,
   "metadata": {},
   "outputs": [
    {
     "name": "stdout",
     "output_type": "stream",
     "text": [
      "<class 'pandas.core.frame.DataFrame'>\n",
      "RangeIndex: 1383534 entries, 0 to 1383533\n",
      "Columns: 6389 entries, customer_ID to target13\n",
      "dtypes: category(1), float16(4584), float32(759), float64(1019), int8(26)\n",
      "memory usage: 26.3 GB\n"
     ]
    }
   ],
   "source": [
    "tt.info()"
   ]
  },
  {
   "cell_type": "code",
   "execution_count": 46,
   "metadata": {},
   "outputs": [],
   "source": [
    "id_name = \"customer_ID\"\n",
    "label_name = \"target\"\n",
    "f1 = [col for col in tt.columns if col not in [id_name, label_name, \"S_2\"] and \"target\" not in col]\n",
    "f2= [col for col in tt.columns if col not in [id_name, label_name, \"S_2\"]]"
   ]
  }
 ],
 "metadata": {
  "interpreter": {
   "hash": "9c90c4efae355953581131fe5eb685f809605ddb2abb7edf8826c72b30e930c0"
  },
  "kernelspec": {
   "display_name": "Python 3.9.6 ('.venv': poetry)",
   "language": "python",
   "name": "python3"
  },
  "language_info": {
   "codemirror_mode": {
    "name": "ipython",
    "version": 3
   },
   "file_extension": ".py",
   "mimetype": "text/x-python",
   "name": "python",
   "nbconvert_exporter": "python",
   "pygments_lexer": "ipython3",
   "version": "3.9.6"
  },
  "orig_nbformat": 4
 },
 "nbformat": 4,
 "nbformat_minor": 2
}

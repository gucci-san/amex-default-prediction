{
 "cells": [
  {
   "cell_type": "markdown",
   "metadata": {},
   "source": [
    "## denoiseから前処理まで\n",
    "* S2"
   ]
  },
  {
   "cell_type": "code",
   "execution_count": 1,
   "metadata": {},
   "outputs": [],
   "source": [
    "import warnings\n",
    "warnings.simplefilter('ignore')\n",
    "\n",
    "import pandas as pd\n",
    "import numpy as np\n",
    "import matplotlib.pyplot as plt\n",
    "import gc,os,random\n",
    "import time,datetime\n",
    "from tqdm import tqdm\n",
    "from multiprocessing import Pool as ThreadPool\n",
    "\n",
    "from utils import reduce_mem_usage"
   ]
  },
  {
   "cell_type": "code",
   "execution_count": 2,
   "metadata": {},
   "outputs": [],
   "source": [
    "def one_hot_encoding(df, cols, is_drop=True):\n",
    "    for col in cols:\n",
    "        print(\"one hot encoding: \", col)\n",
    "        dummies = pd.get_dummies(pd.Series(df[col]), prefix=\"oneHot_%s\"%col)\n",
    "        df = pd.concat([df, dummies], axis=1)\n",
    "    if is_drop:\n",
    "        df.drop(cols, axis=1, inplace=True)\n",
    "    return df"
   ]
  },
  {
   "cell_type": "code",
   "execution_count": 3,
   "metadata": {},
   "outputs": [],
   "source": [
    "def cat_feature(df):\n",
    "    one_hot_features = [col for col in df.columns if \"oneHot\" in col]\n",
    "    if lastk is None:\n",
    "        num_agg_df = df.groupby(\"customer_ID\", sort=False)[one_hot_features].agg([\"mean\", \"std\", \"sum\", \"last\"])\n",
    "    else:\n",
    "        num_agg_df = df.groupby(\"customer_ID\", sort=False)[one_hot_features].agg([\"mean\", \"std\", \"sum\"])\n",
    "    num_agg_df.columns = [\"\".join(x) for x in num_agg_df.columns]\n",
    "\n",
    "    if lastk is None:\n",
    "        cat_agg_df = df.groupby(\"customer_ID\", sort=False)[cat_features].agg([\"last\", \"nunique\"])\n",
    "    else:\n",
    "        cat_agg_df = df.groupby(\"customer_ID\", sort=False)[cat_features].agg([\"nunique\"])\n",
    "    cat_agg_df.columns = [\"_\".join(x) for x in cat_agg_df.columns]\n",
    "\n",
    "    count_agg_df = df.groupby(\"customer_ID\", sort=False)[[\"S_2\"]].agg([\"count\"])\n",
    "    count_agg_df.columns = [\"\".join(x) for x in count_agg_df.columns]\n",
    "    df = pd.concat([num_agg_df, cat_agg_df, count_agg_df], axis=1).reset_index()\n",
    "    print(\"cat feature shape after engineering\", df.shape)\n",
    "    return df"
   ]
  },
  {
   "cell_type": "code",
   "execution_count": 4,
   "metadata": {},
   "outputs": [],
   "source": [
    "def num_feature(df):\n",
    "    if num_features[0][:5] == \"rank_\":\n",
    "        num_agg_df = df.groupby(\"customer_ID\", sort=False)[num_features].agg([\"last\"])\n",
    "    else:\n",
    "        if lastk is None:\n",
    "            num_agg_df = df.groupby(\"customer_ID\", sort=False)[num_features].agg([\"mean\", \"std\", \"min\", \"max\", \"sum\", \"last\"])\n",
    "        else:\n",
    "            num_agg_df = df.groupby(\"customer_ID\", sort=False)[num_features].agg([\"mean\", \"std\", \"min\", \"max\", \"sum\"])\n",
    "    num_agg_df.columns = [\"_\".join(x) for x in num_agg_df.columns]\n",
    "\n",
    "    if num_features[0][:5] != \"rank_\":\n",
    "        for col in num_agg_df.columns:\n",
    "            num_agg_df[col] = num_agg_df[col] // 0.01  # 多分、x[i] = np.floor(x[i]*100) / 100 の /100だと思う --\n",
    "    df = num_agg_df.reset_index()\n",
    "    print(\"num feature shape after engineering\", df.shape)\n",
    "    return df"
   ]
  },
  {
   "cell_type": "code",
   "execution_count": 5,
   "metadata": {},
   "outputs": [],
   "source": [
    "def diff_feature(df):\n",
    "    diff_num_features = [f\"diff_{col}\" for col in num_features]\n",
    "    cids = df[\"customer_ID\"].values\n",
    "    df = df.groupby(\"customer_ID\")[num_features].diff().add_prefix(\"diff_\")\n",
    "    df.insert(0, \"customer_ID\", cids)\n",
    "    if lastk is None:\n",
    "        num_agg_df = df.groupby(\"customer_ID\", sort=False)[diff_num_features].agg([\"mean\", \"std\", \"min\", \"max\", \"sum\", \"last\"])\n",
    "    else:\n",
    "        num_agg_df = df.groupby(\"customer_ID\", sort=False)[diff_num_features].agg([\"mean\", \"std\", \"min\", \"max\", \"sum\"])\n",
    "    num_agg_df.columns = [\"_\".join(x) for x in num_agg_df.columns]\n",
    "    for col in num_agg_df.columns:\n",
    "        num_agg_df[col] = num_agg_df[col] // 0.01\n",
    "\n",
    "    df = num_agg_df.reset_index()\n",
    "    print(\"diff feature shape after engineering\", df.shape)\n",
    "\n",
    "    return df"
   ]
  },
  {
   "cell_type": "code",
   "execution_count": 6,
   "metadata": {},
   "outputs": [],
   "source": [
    "n_cpu = (os.cpu_count())\n",
    "#transform = [[\"\", \"rank_\", \"ym_rank_\"], [\"\"], [\"\"]]\n",
    "transform = [[\"rank_\", \"ym_rank_\"], [\"\"], [\"\"]]"
   ]
  },
  {
   "cell_type": "code",
   "execution_count": 7,
   "metadata": {},
   "outputs": [
    {
     "name": "stdout",
     "output_type": "stream",
     "text": [
      "Process start :  0 None rank_\n"
     ]
    },
    {
     "name": "stderr",
     "output_type": "stream",
     "text": [
      "num_feature:  12%|█▎        | 2/16 [00:02<00:17,  1.23s/it]"
     ]
    },
    {
     "name": "stdout",
     "output_type": "stream",
     "text": [
      "num feature shape after engineering (86130, 178)\n"
     ]
    },
    {
     "name": "stderr",
     "output_type": "stream",
     "text": [
      "num_feature:  19%|█▉        | 3/16 [00:03<00:15,  1.23s/it]"
     ]
    },
    {
     "name": "stdout",
     "output_type": "stream",
     "text": [
      "num feature shape after engineering (86130, 178)\n"
     ]
    },
    {
     "name": "stderr",
     "output_type": "stream",
     "text": [
      "num_feature:  25%|██▌       | 4/16 [00:04<00:14,  1.24s/it]"
     ]
    },
    {
     "name": "stdout",
     "output_type": "stream",
     "text": [
      "num feature shape after engineering (86130, 178)\n"
     ]
    },
    {
     "name": "stderr",
     "output_type": "stream",
     "text": [
      "num_feature:  31%|███▏      | 5/16 [00:06<00:13,  1.25s/it]"
     ]
    },
    {
     "name": "stdout",
     "output_type": "stream",
     "text": [
      "num feature shape after engineering (86130, 178)\n"
     ]
    },
    {
     "name": "stderr",
     "output_type": "stream",
     "text": [
      "num_feature:  38%|███▊      | 6/16 [00:07<00:12,  1.25s/it]"
     ]
    },
    {
     "name": "stdout",
     "output_type": "stream",
     "text": [
      "num feature shape after engineering (86130, 178)\n"
     ]
    },
    {
     "name": "stderr",
     "output_type": "stream",
     "text": [
      "num_feature:  44%|████▍     | 7/16 [00:08<00:11,  1.26s/it]"
     ]
    },
    {
     "name": "stdout",
     "output_type": "stream",
     "text": [
      "num feature shape after engineering (86130, 178)\n"
     ]
    },
    {
     "name": "stderr",
     "output_type": "stream",
     "text": [
      "num_feature:  50%|█████     | 8/16 [00:09<00:10,  1.26s/it]"
     ]
    },
    {
     "name": "stdout",
     "output_type": "stream",
     "text": [
      "num feature shape after engineering (86130, 178)\n"
     ]
    },
    {
     "name": "stderr",
     "output_type": "stream",
     "text": [
      "num_feature:  56%|█████▋    | 9/16 [00:11<00:08,  1.26s/it]"
     ]
    },
    {
     "name": "stdout",
     "output_type": "stream",
     "text": [
      "num feature shape after engineering (86130, 178)\n"
     ]
    },
    {
     "name": "stderr",
     "output_type": "stream",
     "text": [
      "num_feature:  62%|██████▎   | 10/16 [00:12<00:07,  1.27s/it]"
     ]
    },
    {
     "name": "stdout",
     "output_type": "stream",
     "text": [
      "num feature shape after engineering (86130, 178)\n"
     ]
    },
    {
     "name": "stderr",
     "output_type": "stream",
     "text": [
      "num_feature:  69%|██████▉   | 11/16 [00:13<00:06,  1.28s/it]"
     ]
    },
    {
     "name": "stdout",
     "output_type": "stream",
     "text": [
      "num feature shape after engineering (86130, 178)\n"
     ]
    },
    {
     "name": "stderr",
     "output_type": "stream",
     "text": [
      "num_feature:  75%|███████▌  | 12/16 [00:15<00:05,  1.27s/it]"
     ]
    },
    {
     "name": "stdout",
     "output_type": "stream",
     "text": [
      "num feature shape after engineering (86130, 178)\n"
     ]
    },
    {
     "name": "stderr",
     "output_type": "stream",
     "text": [
      "num_feature:  81%|████████▏ | 13/16 [00:16<00:03,  1.28s/it]"
     ]
    },
    {
     "name": "stdout",
     "output_type": "stream",
     "text": [
      "num feature shape after engineering (86130, 178)\n"
     ]
    },
    {
     "name": "stderr",
     "output_type": "stream",
     "text": [
      "num_feature:  88%|████████▊ | 14/16 [00:17<00:02,  1.28s/it]"
     ]
    },
    {
     "name": "stdout",
     "output_type": "stream",
     "text": [
      "num feature shape after engineering (86130, 178)\n"
     ]
    },
    {
     "name": "stderr",
     "output_type": "stream",
     "text": [
      "num_feature:  94%|█████████▍| 15/16 [00:18<00:01,  1.28s/it]"
     ]
    },
    {
     "name": "stdout",
     "output_type": "stream",
     "text": [
      "num feature shape after engineering (86130, 178)\n"
     ]
    },
    {
     "name": "stderr",
     "output_type": "stream",
     "text": [
      "num_feature: 100%|██████████| 16/16 [00:20<00:00,  1.26s/it]\n"
     ]
    },
    {
     "name": "stdout",
     "output_type": "stream",
     "text": [
      "num feature shape after engineering (86130, 178)\n",
      "num feature shape after engineering (86116, 178)\n",
      "Memory usage after optimization is: 513.26 MB\n",
      "Decreased by 72.6%\n",
      "Process start :  0 None ym_rank_\n"
     ]
    },
    {
     "ename": "KeyboardInterrupt",
     "evalue": "",
     "output_type": "error",
     "traceback": [
      "\u001b[0;31m---------------------------------------------------------------------------\u001b[0m",
      "\u001b[0;31mKeyboardInterrupt\u001b[0m                         Traceback (most recent call last)",
      "\u001b[1;32m/home/marimo/poetry_projects/amex-default-prediction/daishu_preprocess2.ipynb Cell 8'\u001b[0m in \u001b[0;36m<cell line: 1>\u001b[0;34m()\u001b[0m\n\u001b[1;32m     <a href='vscode-notebook-cell:/home/marimo/poetry_projects/amex-default-prediction/daishu_preprocess2.ipynb#ch0000007?line=33'>34</a>\u001b[0m     cids \u001b[39m=\u001b[39m df[\u001b[39m\"\u001b[39m\u001b[39mcustomer_ID\u001b[39m\u001b[39m\"\u001b[39m]\u001b[39m.\u001b[39mvalues\n\u001b[1;32m     <a href='vscode-notebook-cell:/home/marimo/poetry_projects/amex-default-prediction/daishu_preprocess2.ipynb#ch0000007?line=34'>35</a>\u001b[0m     df[\u001b[39m\"\u001b[39m\u001b[39mym\u001b[39m\u001b[39m\"\u001b[39m] \u001b[39m=\u001b[39m df[\u001b[39m\"\u001b[39m\u001b[39mS_2\u001b[39m\u001b[39m\"\u001b[39m]\u001b[39m.\u001b[39mapply(\u001b[39mlambda\u001b[39;00m x: x[:\u001b[39m7\u001b[39m])\n\u001b[0;32m---> <a href='vscode-notebook-cell:/home/marimo/poetry_projects/amex-default-prediction/daishu_preprocess2.ipynb#ch0000007?line=35'>36</a>\u001b[0m     df \u001b[39m=\u001b[39m df\u001b[39m.\u001b[39;49mgroupby(\u001b[39m\"\u001b[39;49m\u001b[39mym\u001b[39;49m\u001b[39m\"\u001b[39;49m)[num_features]\u001b[39m.\u001b[39;49mrank(pct\u001b[39m=\u001b[39;49m\u001b[39mTrue\u001b[39;49;00m)\u001b[39m.\u001b[39madd_prefix(\u001b[39m\"\u001b[39m\u001b[39mym_rank_\u001b[39m\u001b[39m\"\u001b[39m)\n\u001b[1;32m     <a href='vscode-notebook-cell:/home/marimo/poetry_projects/amex-default-prediction/daishu_preprocess2.ipynb#ch0000007?line=36'>37</a>\u001b[0m     num_features \u001b[39m=\u001b[39m [\u001b[39mf\u001b[39m\u001b[39m\"\u001b[39m\u001b[39mym_rank_\u001b[39m\u001b[39m{\u001b[39;00mcol\u001b[39m}\u001b[39;00m\u001b[39m\"\u001b[39m \u001b[39mfor\u001b[39;00m col \u001b[39min\u001b[39;00m num_features]\n\u001b[1;32m     <a href='vscode-notebook-cell:/home/marimo/poetry_projects/amex-default-prediction/daishu_preprocess2.ipynb#ch0000007?line=38'>39</a>\u001b[0m \u001b[39mif\u001b[39;00m prefix \u001b[39min\u001b[39;00m [\u001b[39m\"\u001b[39m\u001b[39m\"\u001b[39m, \u001b[39m\"\u001b[39m\u001b[39mlast3_\u001b[39m\u001b[39m\"\u001b[39m]:\n",
      "File \u001b[0;32m~/poetry_projects/amex-default-prediction/.venv/lib/python3.9/site-packages/pandas/core/groupby/groupby.py:3196\u001b[0m, in \u001b[0;36mGroupBy.rank\u001b[0;34m(self, method, ascending, na_option, pct, axis)\u001b[0m\n\u001b[1;32m   <a href='file:///home/marimo/poetry_projects/amex-default-prediction/.venv/lib/python3.9/site-packages/pandas/core/groupby/groupby.py?line=3192'>3193</a>\u001b[0m     kwargs[\u001b[39m\"\u001b[39m\u001b[39mmethod\u001b[39m\u001b[39m\"\u001b[39m] \u001b[39m=\u001b[39m kwargs\u001b[39m.\u001b[39mpop(\u001b[39m\"\u001b[39m\u001b[39mties_method\u001b[39m\u001b[39m\"\u001b[39m)\n\u001b[1;32m   <a href='file:///home/marimo/poetry_projects/amex-default-prediction/.venv/lib/python3.9/site-packages/pandas/core/groupby/groupby.py?line=3193'>3194</a>\u001b[0m     \u001b[39mreturn\u001b[39;00m \u001b[39mself\u001b[39m\u001b[39m.\u001b[39mapply(\u001b[39mlambda\u001b[39;00m x: x\u001b[39m.\u001b[39mrank(axis\u001b[39m=\u001b[39maxis, numeric_only\u001b[39m=\u001b[39m\u001b[39mFalse\u001b[39;00m, \u001b[39m*\u001b[39m\u001b[39m*\u001b[39mkwargs))\n\u001b[0;32m-> <a href='file:///home/marimo/poetry_projects/amex-default-prediction/.venv/lib/python3.9/site-packages/pandas/core/groupby/groupby.py?line=3195'>3196</a>\u001b[0m \u001b[39mreturn\u001b[39;00m \u001b[39mself\u001b[39;49m\u001b[39m.\u001b[39;49m_cython_transform(\n\u001b[1;32m   <a href='file:///home/marimo/poetry_projects/amex-default-prediction/.venv/lib/python3.9/site-packages/pandas/core/groupby/groupby.py?line=3196'>3197</a>\u001b[0m     \u001b[39m\"\u001b[39;49m\u001b[39mrank\u001b[39;49m\u001b[39m\"\u001b[39;49m,\n\u001b[1;32m   <a href='file:///home/marimo/poetry_projects/amex-default-prediction/.venv/lib/python3.9/site-packages/pandas/core/groupby/groupby.py?line=3197'>3198</a>\u001b[0m     numeric_only\u001b[39m=\u001b[39;49m\u001b[39mFalse\u001b[39;49;00m,\n\u001b[1;32m   <a href='file:///home/marimo/poetry_projects/amex-default-prediction/.venv/lib/python3.9/site-packages/pandas/core/groupby/groupby.py?line=3198'>3199</a>\u001b[0m     axis\u001b[39m=\u001b[39;49maxis,\n\u001b[1;32m   <a href='file:///home/marimo/poetry_projects/amex-default-prediction/.venv/lib/python3.9/site-packages/pandas/core/groupby/groupby.py?line=3199'>3200</a>\u001b[0m     \u001b[39m*\u001b[39;49m\u001b[39m*\u001b[39;49mkwargs,\n\u001b[1;32m   <a href='file:///home/marimo/poetry_projects/amex-default-prediction/.venv/lib/python3.9/site-packages/pandas/core/groupby/groupby.py?line=3200'>3201</a>\u001b[0m )\n",
      "File \u001b[0;32m~/poetry_projects/amex-default-prediction/.venv/lib/python3.9/site-packages/pandas/core/groupby/generic.py:1127\u001b[0m, in \u001b[0;36mDataFrameGroupBy._cython_transform\u001b[0;34m(self, how, numeric_only, axis, **kwargs)\u001b[0m\n\u001b[1;32m   <a href='file:///home/marimo/poetry_projects/amex-default-prediction/.venv/lib/python3.9/site-packages/pandas/core/groupby/generic.py?line=1120'>1121</a>\u001b[0m     \u001b[39mreturn\u001b[39;00m \u001b[39mself\u001b[39m\u001b[39m.\u001b[39mgrouper\u001b[39m.\u001b[39m_cython_operation(\n\u001b[1;32m   <a href='file:///home/marimo/poetry_projects/amex-default-prediction/.venv/lib/python3.9/site-packages/pandas/core/groupby/generic.py?line=1121'>1122</a>\u001b[0m         \u001b[39m\"\u001b[39m\u001b[39mtransform\u001b[39m\u001b[39m\"\u001b[39m, bvalues, how, \u001b[39m1\u001b[39m, \u001b[39m*\u001b[39m\u001b[39m*\u001b[39mkwargs\n\u001b[1;32m   <a href='file:///home/marimo/poetry_projects/amex-default-prediction/.venv/lib/python3.9/site-packages/pandas/core/groupby/generic.py?line=1122'>1123</a>\u001b[0m     )\n\u001b[1;32m   <a href='file:///home/marimo/poetry_projects/amex-default-prediction/.venv/lib/python3.9/site-packages/pandas/core/groupby/generic.py?line=1124'>1125</a>\u001b[0m \u001b[39m# We could use `mgr.apply` here and not have to set_axis, but\u001b[39;00m\n\u001b[1;32m   <a href='file:///home/marimo/poetry_projects/amex-default-prediction/.venv/lib/python3.9/site-packages/pandas/core/groupby/generic.py?line=1125'>1126</a>\u001b[0m \u001b[39m#  we would have to do shape gymnastics for ArrayManager compat\u001b[39;00m\n\u001b[0;32m-> <a href='file:///home/marimo/poetry_projects/amex-default-prediction/.venv/lib/python3.9/site-packages/pandas/core/groupby/generic.py?line=1126'>1127</a>\u001b[0m res_mgr \u001b[39m=\u001b[39m mgr\u001b[39m.\u001b[39;49mgrouped_reduce(arr_func, ignore_failures\u001b[39m=\u001b[39;49m\u001b[39mTrue\u001b[39;49;00m)\n\u001b[1;32m   <a href='file:///home/marimo/poetry_projects/amex-default-prediction/.venv/lib/python3.9/site-packages/pandas/core/groupby/generic.py?line=1127'>1128</a>\u001b[0m res_mgr\u001b[39m.\u001b[39mset_axis(\u001b[39m1\u001b[39m, mgr\u001b[39m.\u001b[39maxes[\u001b[39m1\u001b[39m])\n\u001b[1;32m   <a href='file:///home/marimo/poetry_projects/amex-default-prediction/.venv/lib/python3.9/site-packages/pandas/core/groupby/generic.py?line=1129'>1130</a>\u001b[0m \u001b[39mif\u001b[39;00m \u001b[39mlen\u001b[39m(res_mgr) \u001b[39m<\u001b[39m \u001b[39mlen\u001b[39m(mgr):\n",
      "File \u001b[0;32m~/poetry_projects/amex-default-prediction/.venv/lib/python3.9/site-packages/pandas/core/internals/managers.py:1357\u001b[0m, in \u001b[0;36mBlockManager.grouped_reduce\u001b[0;34m(self, func, ignore_failures)\u001b[0m\n\u001b[1;32m   <a href='file:///home/marimo/poetry_projects/amex-default-prediction/.venv/lib/python3.9/site-packages/pandas/core/internals/managers.py?line=1354'>1355</a>\u001b[0m \u001b[39melse\u001b[39;00m:\n\u001b[1;32m   <a href='file:///home/marimo/poetry_projects/amex-default-prediction/.venv/lib/python3.9/site-packages/pandas/core/internals/managers.py?line=1355'>1356</a>\u001b[0m     \u001b[39mtry\u001b[39;00m:\n\u001b[0;32m-> <a href='file:///home/marimo/poetry_projects/amex-default-prediction/.venv/lib/python3.9/site-packages/pandas/core/internals/managers.py?line=1356'>1357</a>\u001b[0m         applied \u001b[39m=\u001b[39m blk\u001b[39m.\u001b[39;49mapply(func)\n\u001b[1;32m   <a href='file:///home/marimo/poetry_projects/amex-default-prediction/.venv/lib/python3.9/site-packages/pandas/core/internals/managers.py?line=1357'>1358</a>\u001b[0m     \u001b[39mexcept\u001b[39;00m (\u001b[39mTypeError\u001b[39;00m, \u001b[39mNotImplementedError\u001b[39;00m):\n\u001b[1;32m   <a href='file:///home/marimo/poetry_projects/amex-default-prediction/.venv/lib/python3.9/site-packages/pandas/core/internals/managers.py?line=1358'>1359</a>\u001b[0m         \u001b[39mif\u001b[39;00m \u001b[39mnot\u001b[39;00m ignore_failures:\n",
      "File \u001b[0;32m~/poetry_projects/amex-default-prediction/.venv/lib/python3.9/site-packages/pandas/core/internals/blocks.py:402\u001b[0m, in \u001b[0;36mBlock.apply\u001b[0;34m(self, func, **kwargs)\u001b[0m\n\u001b[1;32m    <a href='file:///home/marimo/poetry_projects/amex-default-prediction/.venv/lib/python3.9/site-packages/pandas/core/internals/blocks.py?line=395'>396</a>\u001b[0m \u001b[39m@final\u001b[39m\n\u001b[1;32m    <a href='file:///home/marimo/poetry_projects/amex-default-prediction/.venv/lib/python3.9/site-packages/pandas/core/internals/blocks.py?line=396'>397</a>\u001b[0m \u001b[39mdef\u001b[39;00m \u001b[39mapply\u001b[39m(\u001b[39mself\u001b[39m, func, \u001b[39m*\u001b[39m\u001b[39m*\u001b[39mkwargs) \u001b[39m-\u001b[39m\u001b[39m>\u001b[39m \u001b[39mlist\u001b[39m[Block]:\n\u001b[1;32m    <a href='file:///home/marimo/poetry_projects/amex-default-prediction/.venv/lib/python3.9/site-packages/pandas/core/internals/blocks.py?line=397'>398</a>\u001b[0m     \u001b[39m\"\"\"\u001b[39;00m\n\u001b[1;32m    <a href='file:///home/marimo/poetry_projects/amex-default-prediction/.venv/lib/python3.9/site-packages/pandas/core/internals/blocks.py?line=398'>399</a>\u001b[0m \u001b[39m    apply the function to my values; return a block if we are not\u001b[39;00m\n\u001b[1;32m    <a href='file:///home/marimo/poetry_projects/amex-default-prediction/.venv/lib/python3.9/site-packages/pandas/core/internals/blocks.py?line=399'>400</a>\u001b[0m \u001b[39m    one\u001b[39;00m\n\u001b[1;32m    <a href='file:///home/marimo/poetry_projects/amex-default-prediction/.venv/lib/python3.9/site-packages/pandas/core/internals/blocks.py?line=400'>401</a>\u001b[0m \u001b[39m    \"\"\"\u001b[39;00m\n\u001b[0;32m--> <a href='file:///home/marimo/poetry_projects/amex-default-prediction/.venv/lib/python3.9/site-packages/pandas/core/internals/blocks.py?line=401'>402</a>\u001b[0m     result \u001b[39m=\u001b[39m func(\u001b[39mself\u001b[39;49m\u001b[39m.\u001b[39;49mvalues, \u001b[39m*\u001b[39;49m\u001b[39m*\u001b[39;49mkwargs)\n\u001b[1;32m    <a href='file:///home/marimo/poetry_projects/amex-default-prediction/.venv/lib/python3.9/site-packages/pandas/core/internals/blocks.py?line=403'>404</a>\u001b[0m     \u001b[39mreturn\u001b[39;00m \u001b[39mself\u001b[39m\u001b[39m.\u001b[39m_split_op_result(result)\n",
      "File \u001b[0;32m~/poetry_projects/amex-default-prediction/.venv/lib/python3.9/site-packages/pandas/core/groupby/generic.py:1121\u001b[0m, in \u001b[0;36mDataFrameGroupBy._cython_transform.<locals>.arr_func\u001b[0;34m(bvalues)\u001b[0m\n\u001b[1;32m   <a href='file:///home/marimo/poetry_projects/amex-default-prediction/.venv/lib/python3.9/site-packages/pandas/core/groupby/generic.py?line=1119'>1120</a>\u001b[0m \u001b[39mdef\u001b[39;00m \u001b[39marr_func\u001b[39m(bvalues: ArrayLike) \u001b[39m-\u001b[39m\u001b[39m>\u001b[39m ArrayLike:\n\u001b[0;32m-> <a href='file:///home/marimo/poetry_projects/amex-default-prediction/.venv/lib/python3.9/site-packages/pandas/core/groupby/generic.py?line=1120'>1121</a>\u001b[0m     \u001b[39mreturn\u001b[39;00m \u001b[39mself\u001b[39;49m\u001b[39m.\u001b[39;49mgrouper\u001b[39m.\u001b[39;49m_cython_operation(\n\u001b[1;32m   <a href='file:///home/marimo/poetry_projects/amex-default-prediction/.venv/lib/python3.9/site-packages/pandas/core/groupby/generic.py?line=1121'>1122</a>\u001b[0m         \u001b[39m\"\u001b[39;49m\u001b[39mtransform\u001b[39;49m\u001b[39m\"\u001b[39;49m, bvalues, how, \u001b[39m1\u001b[39;49m, \u001b[39m*\u001b[39;49m\u001b[39m*\u001b[39;49mkwargs\n\u001b[1;32m   <a href='file:///home/marimo/poetry_projects/amex-default-prediction/.venv/lib/python3.9/site-packages/pandas/core/groupby/generic.py?line=1122'>1123</a>\u001b[0m     )\n",
      "File \u001b[0;32m~/poetry_projects/amex-default-prediction/.venv/lib/python3.9/site-packages/pandas/core/groupby/ops.py:939\u001b[0m, in \u001b[0;36mBaseGrouper._cython_operation\u001b[0;34m(self, kind, values, how, axis, min_count, **kwargs)\u001b[0m\n\u001b[1;32m    <a href='file:///home/marimo/poetry_projects/amex-default-prediction/.venv/lib/python3.9/site-packages/pandas/core/groupby/ops.py?line=936'>937</a>\u001b[0m ids, _, _ \u001b[39m=\u001b[39m \u001b[39mself\u001b[39m\u001b[39m.\u001b[39mgroup_info\n\u001b[1;32m    <a href='file:///home/marimo/poetry_projects/amex-default-prediction/.venv/lib/python3.9/site-packages/pandas/core/groupby/ops.py?line=937'>938</a>\u001b[0m ngroups \u001b[39m=\u001b[39m \u001b[39mself\u001b[39m\u001b[39m.\u001b[39mngroups\n\u001b[0;32m--> <a href='file:///home/marimo/poetry_projects/amex-default-prediction/.venv/lib/python3.9/site-packages/pandas/core/groupby/ops.py?line=938'>939</a>\u001b[0m \u001b[39mreturn\u001b[39;00m cy_op\u001b[39m.\u001b[39;49mcython_operation(\n\u001b[1;32m    <a href='file:///home/marimo/poetry_projects/amex-default-prediction/.venv/lib/python3.9/site-packages/pandas/core/groupby/ops.py?line=939'>940</a>\u001b[0m     values\u001b[39m=\u001b[39;49mvalues,\n\u001b[1;32m    <a href='file:///home/marimo/poetry_projects/amex-default-prediction/.venv/lib/python3.9/site-packages/pandas/core/groupby/ops.py?line=940'>941</a>\u001b[0m     axis\u001b[39m=\u001b[39;49maxis,\n\u001b[1;32m    <a href='file:///home/marimo/poetry_projects/amex-default-prediction/.venv/lib/python3.9/site-packages/pandas/core/groupby/ops.py?line=941'>942</a>\u001b[0m     min_count\u001b[39m=\u001b[39;49mmin_count,\n\u001b[1;32m    <a href='file:///home/marimo/poetry_projects/amex-default-prediction/.venv/lib/python3.9/site-packages/pandas/core/groupby/ops.py?line=942'>943</a>\u001b[0m     comp_ids\u001b[39m=\u001b[39;49mids,\n\u001b[1;32m    <a href='file:///home/marimo/poetry_projects/amex-default-prediction/.venv/lib/python3.9/site-packages/pandas/core/groupby/ops.py?line=943'>944</a>\u001b[0m     ngroups\u001b[39m=\u001b[39;49mngroups,\n\u001b[1;32m    <a href='file:///home/marimo/poetry_projects/amex-default-prediction/.venv/lib/python3.9/site-packages/pandas/core/groupby/ops.py?line=944'>945</a>\u001b[0m     \u001b[39m*\u001b[39;49m\u001b[39m*\u001b[39;49mkwargs,\n\u001b[1;32m    <a href='file:///home/marimo/poetry_projects/amex-default-prediction/.venv/lib/python3.9/site-packages/pandas/core/groupby/ops.py?line=945'>946</a>\u001b[0m )\n",
      "File \u001b[0;32m~/poetry_projects/amex-default-prediction/.venv/lib/python3.9/site-packages/pandas/core/groupby/ops.py:626\u001b[0m, in \u001b[0;36mWrappedCythonOp.cython_operation\u001b[0;34m(self, values, axis, min_count, comp_ids, ngroups, **kwargs)\u001b[0m\n\u001b[1;32m    <a href='file:///home/marimo/poetry_projects/amex-default-prediction/.venv/lib/python3.9/site-packages/pandas/core/groupby/ops.py?line=615'>616</a>\u001b[0m \u001b[39mif\u001b[39;00m \u001b[39mnot\u001b[39;00m \u001b[39misinstance\u001b[39m(values, np\u001b[39m.\u001b[39mndarray):\n\u001b[1;32m    <a href='file:///home/marimo/poetry_projects/amex-default-prediction/.venv/lib/python3.9/site-packages/pandas/core/groupby/ops.py?line=616'>617</a>\u001b[0m     \u001b[39m# i.e. ExtensionArray\u001b[39;00m\n\u001b[1;32m    <a href='file:///home/marimo/poetry_projects/amex-default-prediction/.venv/lib/python3.9/site-packages/pandas/core/groupby/ops.py?line=617'>618</a>\u001b[0m     \u001b[39mreturn\u001b[39;00m \u001b[39mself\u001b[39m\u001b[39m.\u001b[39m_ea_wrap_cython_operation(\n\u001b[1;32m    <a href='file:///home/marimo/poetry_projects/amex-default-prediction/.venv/lib/python3.9/site-packages/pandas/core/groupby/ops.py?line=618'>619</a>\u001b[0m         values,\n\u001b[1;32m    <a href='file:///home/marimo/poetry_projects/amex-default-prediction/.venv/lib/python3.9/site-packages/pandas/core/groupby/ops.py?line=619'>620</a>\u001b[0m         min_count\u001b[39m=\u001b[39mmin_count,\n\u001b[0;32m   (...)\u001b[0m\n\u001b[1;32m    <a href='file:///home/marimo/poetry_projects/amex-default-prediction/.venv/lib/python3.9/site-packages/pandas/core/groupby/ops.py?line=622'>623</a>\u001b[0m         \u001b[39m*\u001b[39m\u001b[39m*\u001b[39mkwargs,\n\u001b[1;32m    <a href='file:///home/marimo/poetry_projects/amex-default-prediction/.venv/lib/python3.9/site-packages/pandas/core/groupby/ops.py?line=623'>624</a>\u001b[0m     )\n\u001b[0;32m--> <a href='file:///home/marimo/poetry_projects/amex-default-prediction/.venv/lib/python3.9/site-packages/pandas/core/groupby/ops.py?line=625'>626</a>\u001b[0m \u001b[39mreturn\u001b[39;00m \u001b[39mself\u001b[39;49m\u001b[39m.\u001b[39;49m_cython_op_ndim_compat(\n\u001b[1;32m    <a href='file:///home/marimo/poetry_projects/amex-default-prediction/.venv/lib/python3.9/site-packages/pandas/core/groupby/ops.py?line=626'>627</a>\u001b[0m     values,\n\u001b[1;32m    <a href='file:///home/marimo/poetry_projects/amex-default-prediction/.venv/lib/python3.9/site-packages/pandas/core/groupby/ops.py?line=627'>628</a>\u001b[0m     min_count\u001b[39m=\u001b[39;49mmin_count,\n\u001b[1;32m    <a href='file:///home/marimo/poetry_projects/amex-default-prediction/.venv/lib/python3.9/site-packages/pandas/core/groupby/ops.py?line=628'>629</a>\u001b[0m     ngroups\u001b[39m=\u001b[39;49mngroups,\n\u001b[1;32m    <a href='file:///home/marimo/poetry_projects/amex-default-prediction/.venv/lib/python3.9/site-packages/pandas/core/groupby/ops.py?line=629'>630</a>\u001b[0m     comp_ids\u001b[39m=\u001b[39;49mcomp_ids,\n\u001b[1;32m    <a href='file:///home/marimo/poetry_projects/amex-default-prediction/.venv/lib/python3.9/site-packages/pandas/core/groupby/ops.py?line=630'>631</a>\u001b[0m     mask\u001b[39m=\u001b[39;49m\u001b[39mNone\u001b[39;49;00m,\n\u001b[1;32m    <a href='file:///home/marimo/poetry_projects/amex-default-prediction/.venv/lib/python3.9/site-packages/pandas/core/groupby/ops.py?line=631'>632</a>\u001b[0m     \u001b[39m*\u001b[39;49m\u001b[39m*\u001b[39;49mkwargs,\n\u001b[1;32m    <a href='file:///home/marimo/poetry_projects/amex-default-prediction/.venv/lib/python3.9/site-packages/pandas/core/groupby/ops.py?line=632'>633</a>\u001b[0m )\n",
      "File \u001b[0;32m~/poetry_projects/amex-default-prediction/.venv/lib/python3.9/site-packages/pandas/core/groupby/ops.py:466\u001b[0m, in \u001b[0;36mWrappedCythonOp._cython_op_ndim_compat\u001b[0;34m(self, values, min_count, ngroups, comp_ids, mask, result_mask, **kwargs)\u001b[0m\n\u001b[1;32m    <a href='file:///home/marimo/poetry_projects/amex-default-prediction/.venv/lib/python3.9/site-packages/pandas/core/groupby/ops.py?line=462'>463</a>\u001b[0m     \u001b[39m# otherwise we have OHLC\u001b[39;00m\n\u001b[1;32m    <a href='file:///home/marimo/poetry_projects/amex-default-prediction/.venv/lib/python3.9/site-packages/pandas/core/groupby/ops.py?line=463'>464</a>\u001b[0m     \u001b[39mreturn\u001b[39;00m res\u001b[39m.\u001b[39mT\n\u001b[0;32m--> <a href='file:///home/marimo/poetry_projects/amex-default-prediction/.venv/lib/python3.9/site-packages/pandas/core/groupby/ops.py?line=465'>466</a>\u001b[0m \u001b[39mreturn\u001b[39;00m \u001b[39mself\u001b[39;49m\u001b[39m.\u001b[39;49m_call_cython_op(\n\u001b[1;32m    <a href='file:///home/marimo/poetry_projects/amex-default-prediction/.venv/lib/python3.9/site-packages/pandas/core/groupby/ops.py?line=466'>467</a>\u001b[0m     values,\n\u001b[1;32m    <a href='file:///home/marimo/poetry_projects/amex-default-prediction/.venv/lib/python3.9/site-packages/pandas/core/groupby/ops.py?line=467'>468</a>\u001b[0m     min_count\u001b[39m=\u001b[39;49mmin_count,\n\u001b[1;32m    <a href='file:///home/marimo/poetry_projects/amex-default-prediction/.venv/lib/python3.9/site-packages/pandas/core/groupby/ops.py?line=468'>469</a>\u001b[0m     ngroups\u001b[39m=\u001b[39;49mngroups,\n\u001b[1;32m    <a href='file:///home/marimo/poetry_projects/amex-default-prediction/.venv/lib/python3.9/site-packages/pandas/core/groupby/ops.py?line=469'>470</a>\u001b[0m     comp_ids\u001b[39m=\u001b[39;49mcomp_ids,\n\u001b[1;32m    <a href='file:///home/marimo/poetry_projects/amex-default-prediction/.venv/lib/python3.9/site-packages/pandas/core/groupby/ops.py?line=470'>471</a>\u001b[0m     mask\u001b[39m=\u001b[39;49mmask,\n\u001b[1;32m    <a href='file:///home/marimo/poetry_projects/amex-default-prediction/.venv/lib/python3.9/site-packages/pandas/core/groupby/ops.py?line=471'>472</a>\u001b[0m     result_mask\u001b[39m=\u001b[39;49mresult_mask,\n\u001b[1;32m    <a href='file:///home/marimo/poetry_projects/amex-default-prediction/.venv/lib/python3.9/site-packages/pandas/core/groupby/ops.py?line=472'>473</a>\u001b[0m     \u001b[39m*\u001b[39;49m\u001b[39m*\u001b[39;49mkwargs,\n\u001b[1;32m    <a href='file:///home/marimo/poetry_projects/amex-default-prediction/.venv/lib/python3.9/site-packages/pandas/core/groupby/ops.py?line=473'>474</a>\u001b[0m )\n",
      "File \u001b[0;32m~/poetry_projects/amex-default-prediction/.venv/lib/python3.9/site-packages/pandas/core/groupby/ops.py:558\u001b[0m, in \u001b[0;36mWrappedCythonOp._call_cython_op\u001b[0;34m(self, values, min_count, ngroups, comp_ids, mask, result_mask, **kwargs)\u001b[0m\n\u001b[1;32m    <a href='file:///home/marimo/poetry_projects/amex-default-prediction/.venv/lib/python3.9/site-packages/pandas/core/groupby/ops.py?line=547'>548</a>\u001b[0m         func(\n\u001b[1;32m    <a href='file:///home/marimo/poetry_projects/amex-default-prediction/.venv/lib/python3.9/site-packages/pandas/core/groupby/ops.py?line=548'>549</a>\u001b[0m             result,\n\u001b[1;32m    <a href='file:///home/marimo/poetry_projects/amex-default-prediction/.venv/lib/python3.9/site-packages/pandas/core/groupby/ops.py?line=549'>550</a>\u001b[0m             values,\n\u001b[0;32m   (...)\u001b[0m\n\u001b[1;32m    <a href='file:///home/marimo/poetry_projects/amex-default-prediction/.venv/lib/python3.9/site-packages/pandas/core/groupby/ops.py?line=554'>555</a>\u001b[0m             \u001b[39m*\u001b[39m\u001b[39m*\u001b[39mkwargs,\n\u001b[1;32m    <a href='file:///home/marimo/poetry_projects/amex-default-prediction/.venv/lib/python3.9/site-packages/pandas/core/groupby/ops.py?line=555'>556</a>\u001b[0m         )\n\u001b[1;32m    <a href='file:///home/marimo/poetry_projects/amex-default-prediction/.venv/lib/python3.9/site-packages/pandas/core/groupby/ops.py?line=556'>557</a>\u001b[0m     \u001b[39melse\u001b[39;00m:\n\u001b[0;32m--> <a href='file:///home/marimo/poetry_projects/amex-default-prediction/.venv/lib/python3.9/site-packages/pandas/core/groupby/ops.py?line=557'>558</a>\u001b[0m         func(result, values, comp_ids, ngroups, is_datetimelike, \u001b[39m*\u001b[39;49m\u001b[39m*\u001b[39;49mkwargs)\n\u001b[1;32m    <a href='file:///home/marimo/poetry_projects/amex-default-prediction/.venv/lib/python3.9/site-packages/pandas/core/groupby/ops.py?line=559'>560</a>\u001b[0m \u001b[39mif\u001b[39;00m \u001b[39mself\u001b[39m\u001b[39m.\u001b[39mkind \u001b[39m==\u001b[39m \u001b[39m\"\u001b[39m\u001b[39maggregate\u001b[39m\u001b[39m\"\u001b[39m:\n\u001b[1;32m    <a href='file:///home/marimo/poetry_projects/amex-default-prediction/.venv/lib/python3.9/site-packages/pandas/core/groupby/ops.py?line=560'>561</a>\u001b[0m     \u001b[39m# i.e. counts is defined.  Locations where count<min_count\u001b[39;00m\n\u001b[1;32m    <a href='file:///home/marimo/poetry_projects/amex-default-prediction/.venv/lib/python3.9/site-packages/pandas/core/groupby/ops.py?line=561'>562</a>\u001b[0m     \u001b[39m# need to have the result set to np.nan, which may require casting,\u001b[39;00m\n\u001b[1;32m    <a href='file:///home/marimo/poetry_projects/amex-default-prediction/.venv/lib/python3.9/site-packages/pandas/core/groupby/ops.py?line=562'>563</a>\u001b[0m     \u001b[39m# see GH#40767\u001b[39;00m\n\u001b[1;32m    <a href='file:///home/marimo/poetry_projects/amex-default-prediction/.venv/lib/python3.9/site-packages/pandas/core/groupby/ops.py?line=563'>564</a>\u001b[0m     \u001b[39mif\u001b[39;00m is_integer_dtype(result\u001b[39m.\u001b[39mdtype) \u001b[39mand\u001b[39;00m \u001b[39mnot\u001b[39;00m is_datetimelike:\n",
      "File \u001b[0;32m~/poetry_projects/amex-default-prediction/.venv/lib/python3.9/site-packages/pandas/_libs/groupby.pyx:1194\u001b[0m, in \u001b[0;36mpandas._libs.groupby.group_rank\u001b[0;34m()\u001b[0m\n",
      "File \u001b[0;32m~/poetry_projects/amex-default-prediction/.venv/lib/python3.9/site-packages/pandas/_libs/algos.pyx:968\u001b[0m, in \u001b[0;36mpandas._libs.algos.rank_1d\u001b[0;34m()\u001b[0m\n",
      "File \u001b[0;32m<__array_function__ internals>:180\u001b[0m, in \u001b[0;36mlexsort\u001b[0;34m(*args, **kwargs)\u001b[0m\n",
      "\u001b[0;31mKeyboardInterrupt\u001b[0m: "
     ]
    }
   ],
   "source": [
    "for li, lastk in enumerate([None, 3, 6]):\n",
    "    for prefix in transform[li]:\n",
    "        print(\"Process start : \", li, lastk, prefix)\n",
    "        #df = pd.read_pickle(\"./input/train_denoise.pkl\").append(pd.read_pickle(\"./input/test_denoise.pkl\")).reset_index(drop=True)\n",
    "        df = pd.read_feather(\"./input/train_denoise.feather\").append(pd.read_feather(\"./input/test_denoise.feather\")).reset_index(drop=True)\n",
    "\n",
    "##        # debug (memory malloc) --\n",
    "##        df = df.iloc[::2, :]\n",
    "\n",
    "        all_cols = [c for c in list(df.columns) if c not in [\"customer_ID\", \"S_2\"]]\n",
    "        cat_features = [\"B_30\", \"B_38\", \"D_114\", \"D_116\", \"D_117\", \"D_120\", \"D_126\", \"D_63\", \"D_64\", \"D_66\", \"D_68\"]\n",
    "        num_features = [col for col in all_cols if col not in cat_features]\n",
    "\n",
    "        # S_ と P_ はfillna(0)でいいらしい？ --\n",
    "        for col in [col for col in df.columns if \"S_\" in col or \"P_\" in col]:\n",
    "            if col != \"S_2\":\n",
    "                df[col] = df[col].fillna(0)\n",
    "\n",
    "        if lastk is not None:\n",
    "            prefix = f\"last{lastk}_\" + prefix\n",
    "            print(\"all df shape\", df.shape)\n",
    "            df[\"rank\"] = df.groupby(\"customer_ID\")[num_features].rank(pct=True).add_prefix(\"rank_\")\n",
    "            df = df.loc[df[\"rank\"] <= lastk].reset_index(drop=True)\n",
    "            df = df.drop([\"rank\"], axis=1)\n",
    "            print(f\"last {lastk} shape\", df.shape)\n",
    "\n",
    "        if prefix == \"rank_\":\n",
    "            cids = df[\"customer_ID\"].values\n",
    "            df = df.groupby(\"customer_ID\")[num_features].rank(pct=True).add_prefix(\"rank_\")\n",
    "            df.insert(0, \"customer_ID\", cids)\n",
    "            num_features = [f\"rank_{col}\" for col in num_features]\n",
    "\n",
    "        if prefix == \"ym_rank_\":\n",
    "            cids = df[\"customer_ID\"].values\n",
    "            df[\"ym\"] = df[\"S_2\"].apply(lambda x: x[:7])\n",
    "            df = df.groupby(\"ym\")[num_features].rank(pct=True).add_prefix(\"ym_rank_\")\n",
    "            num_features = [f\"ym_rank_{col}\" for col in num_features]\n",
    "        \n",
    "        if prefix in [\"\", \"last3_\"]:\n",
    "            df = one_hot_encoding(df, cat_features, False)\n",
    "\n",
    "        vc = df[\"customer_ID\"].value_counts(sort=False).cumsum()\n",
    "        batch_size = int(np.ceil(len(vc)/n_cpu))\n",
    "        dfs = []\n",
    "        start = 0\n",
    "\n",
    "        for i in range(min(n_cpu, int(np.ceil(len(vc)/batch_size)))):\n",
    "            vc_ = vc[i*batch_size:(i+1)*batch_size]\n",
    "            dfs.append(df[start:vc_[-1]])\n",
    "            start = vc_[-1]\n",
    "        del df; gc.collect()\n",
    "\n",
    "        # 並列処理 --\n",
    "        pool = ThreadPool(n_cpu)\n",
    "        if prefix in [\"\", \"last3_\"]:\n",
    "            cat_feature_df = pd.concat(pool.map(cat_feature, tqdm(dfs, desc=\"cat_feature\"))).reset_index(drop=True)\n",
    "            cat_feature_df = reduce_mem_usage(cat_feature_df)\n",
    "            #cat_feature_df.to_pickle(f\"./input/{prefix}cat_feature.pkl\")\n",
    "            cat_feature_df.to_feather(f\"./input/{prefix}cat_feature.feather\")\n",
    "            del cat_feature_df; gc.collect()\n",
    "\n",
    "        if prefix in [\"\", \"last3_\", \"last6_\", \"rank_\", \"ym_rank_\"]:\n",
    "            num_feature_df = pd.concat(pool.map(num_feature, tqdm(dfs, desc=\"num_feature\"))).reset_index(drop=True)\n",
    "            num_feature_df = reduce_mem_usage(num_feature_df)\n",
    "            #num_feature_df.to_pickle(f\"./input/{prefix}num_feature.pkl\")\n",
    "            num_feature_df.to_feather(f\"./input/{prefix}num_feature.feather\")\n",
    "            del num_feature_df; gc.collect()\n",
    "\n",
    "##         if prefix in [\"\", \"last3_\"]:\n",
    "##             diff_feature_df = pd.concat(pool.map(diff_feature, tqdm(dfs, desc=\"diff_feature\"))).reset_index(drop=True)\n",
    "##             diff_feature_df = reduce_mem_usage(diff_feature_df)\n",
    "##             diff_feature_df.to_pickle(f\"./input/{prefix}diff_feature.pkl\")\n",
    "##             del diff_feature_df; gc.collect()\n",
    "\n",
    "        pool.close()"
   ]
  }
 ],
 "metadata": {
  "interpreter": {
   "hash": "9c90c4efae355953581131fe5eb685f809605ddb2abb7edf8826c72b30e930c0"
  },
  "kernelspec": {
   "display_name": "Python 3.9.6 ('.venv': poetry)",
   "language": "python",
   "name": "python3"
  },
  "language_info": {
   "codemirror_mode": {
    "name": "ipython",
    "version": 3
   },
   "file_extension": ".py",
   "mimetype": "text/x-python",
   "name": "python",
   "nbconvert_exporter": "python",
   "pygments_lexer": "ipython3",
   "version": "3.9.6"
  },
  "orig_nbformat": 4
 },
 "nbformat": 4,
 "nbformat_minor": 2
}

{
 "cells": [
  {
   "cell_type": "markdown",
   "metadata": {},
   "source": [
    "## S6_NN_main.py"
   ]
  },
  {
   "cell_type": "code",
   "execution_count": 1,
   "metadata": {},
   "outputs": [
    {
     "name": "stdout",
     "output_type": "stream",
     "text": [
      "available gpus: [0]\n"
     ]
    }
   ],
   "source": [
    "import warnings\n",
    "warnings.simplefilter('ignore')\n",
    "\n",
    "import pandas as pd\n",
    "import numpy as np\n",
    "import matplotlib.pyplot as plt\n",
    "import gc,os,random\n",
    "import time,datetime\n",
    "from tqdm import tqdm\n",
    "\n",
    "from utils import *\n",
    "from model import *\n",
    "root = args.root\n",
    "seed = args.seed"
   ]
  },
  {
   "cell_type": "code",
   "execution_count": 2,
   "metadata": {},
   "outputs": [],
   "source": [
    "df = pd.read_feather(\"./input/nn_series.feather\")\n",
    "y = pd.read_csv(f\"/mnt/sdb/KAGGLE_DATA/amex-default-prediction/train_labels.csv\")"
   ]
  },
  {
   "cell_type": "code",
   "execution_count": 3,
   "metadata": {},
   "outputs": [],
   "source": [
    "f = pd.read_feather(\"./input/nn_all_feature.feather\")"
   ]
  },
  {
   "cell_type": "code",
   "execution_count": 4,
   "metadata": {},
   "outputs": [
    {
     "name": "stdout",
     "output_type": "stream",
     "text": [
      "                                         customer_ID  oneHot_B_30_0.0_mean  \\\n",
      "0  0000099d6bd597052cdcda90ffabf56573fe9d7c79be5f...                   1.0   \n",
      "1  00000fd6641609c6ece5454664794f0340ad84dddce9a2...                   1.0   \n",
      "2  00001b22f846c82c51f6e3958ccd81970162bae8b007e8...                   1.0   \n",
      "3  000041bdba6ecadd89a52d11886e8eaaec9325906c9723...                   1.0   \n",
      "4  00007889e4fcd2614b6cbe7f8f3d2e5c728eca32d9eb8a...                   1.0   \n",
      "\n",
      "   oneHot_B_30_0.0_std  oneHot_B_30_0.0_sum  oneHot_B_30_0.0_last  \\\n",
      "0             0.027771                  1.0                   1.0   \n",
      "1             0.027771                  1.0                   1.0   \n",
      "2             0.027771                  1.0                   1.0   \n",
      "3             0.027771                  1.0                   1.0   \n",
      "4             0.027771                  1.0                   1.0   \n",
      "\n",
      "   oneHot_B_30_100.0_mean  oneHot_B_30_100.0_std  oneHot_B_30_100.0_sum  \\\n",
      "0                0.016953               0.027771               0.071411   \n",
      "1                0.016953               0.027771               0.071411   \n",
      "2                0.016953               0.027771               0.071411   \n",
      "3                0.016953               0.027771               0.071411   \n",
      "4                0.016953               0.027771               0.071411   \n",
      "\n",
      "   oneHot_B_30_100.0_last  oneHot_B_30_200.0_mean  ...   target4   target5  \\\n",
      "0                     0.5                0.038452  ...  0.001897  0.001420   \n",
      "1                     0.5                0.038452  ...  0.001171  0.001200   \n",
      "2                     0.5                0.038452  ...  0.004671  0.002904   \n",
      "3                     0.5                0.038452  ...  0.062369  0.031373   \n",
      "4                     0.5                0.038452  ...  0.002123  0.001329   \n",
      "\n",
      "    target6   target7   target8   target9  target10  target11  target12  \\\n",
      "0  0.001283  0.001386  0.001352  0.001499  0.001732  0.001855  0.000848   \n",
      "1  0.001298  0.002539  0.001928  0.000656  0.001064  0.000731  0.001542   \n",
      "2  0.002318  0.001915  0.002082  0.011437  0.003070  0.002457  0.002649   \n",
      "3  0.008136  0.010814  0.010744  0.010014  0.014220  0.013699  0.008208   \n",
      "4  0.009259  0.000836  0.000925  0.002355  0.002065  0.001807  0.001775   \n",
      "\n",
      "   target13  \n",
      "0  0.000988  \n",
      "1  0.001803  \n",
      "2  0.001620  \n",
      "3  0.008792  \n",
      "4  0.002029  \n",
      "\n",
      "[5 rows x 6389 columns]\n"
     ]
    }
   ],
   "source": [
    "df[\"idx\"] = df.index\n",
    "series_idx = df.groupby(\"customer_ID\", sort=False).idx.agg([\"min\", \"max\"])\n",
    "series_idx[\"feature_idx\"] = np.arange(len(series_idx))\n",
    "df = df.drop([\"idx\"], axis=1)\n",
    "print(f.head())"
   ]
  },
  {
   "cell_type": "code",
   "execution_count": 5,
   "metadata": {},
   "outputs": [],
   "source": [
    "nn_config = {\n",
    "    \"id_name\": id_name,\n",
    "    \"feature_name\": [],\n",
    "    \"label_name\": label_name,\n",
    "    \"obj_max\": 1,\n",
    "    \"epochs\": 10,\n",
    "    \"smoothing\": 0.001,\n",
    "    \"clipnorm\": 1,\n",
    "    \"patience\": 100,\n",
    "    \"lr\": 3e-4,\n",
    "    \"batch_size\": 256,\n",
    "    \"folds\": 5,\n",
    "    \"seed\": seed,\n",
    "    \"remark\": args.remark\n",
    "}"
   ]
  },
  {
   "cell_type": "code",
   "execution_count": 6,
   "metadata": {},
   "outputs": [
    {
     "name": "stderr",
     "output_type": "stream",
     "text": [
      "loss: 0.2461: 100%|██████████| 1434/1434 [17:42<00:00,  1.35it/s]\n",
      "100%|██████████| 359/359 [04:29<00:00,  1.33it/s]\n"
     ]
    },
    {
     "name": "stdout",
     "output_type": "stream",
     "text": [
      "[epoch 0] lr: 0.001000, train_loss: 0.236709, valid_metric: 0.781693, valid_mean:0.248553\n"
     ]
    },
    {
     "name": "stderr",
     "output_type": "stream",
     "text": [
      "loss: 0.2022: 100%|██████████| 1434/1434 [17:42<00:00,  1.35it/s]\n",
      "100%|██████████| 359/359 [04:29<00:00,  1.33it/s]\n"
     ]
    },
    {
     "name": "stdout",
     "output_type": "stream",
     "text": [
      "[epoch 1] lr: 0.001000, train_loss: 0.227550, valid_metric: 0.785217, valid_mean:0.268394\n"
     ]
    },
    {
     "name": "stderr",
     "output_type": "stream",
     "text": [
      "loss: 0.2536: 100%|██████████| 1434/1434 [17:43<00:00,  1.35it/s]\n",
      "100%|██████████| 359/359 [04:28<00:00,  1.34it/s]\n"
     ]
    },
    {
     "name": "stdout",
     "output_type": "stream",
     "text": [
      "[epoch 2] lr: 0.001000, train_loss: 0.224615, valid_metric: 0.787153, valid_mean:0.266048\n"
     ]
    },
    {
     "name": "stderr",
     "output_type": "stream",
     "text": [
      "loss: 0.2206: 100%|██████████| 1434/1434 [17:39<00:00,  1.35it/s]\n",
      "100%|██████████| 359/359 [04:28<00:00,  1.34it/s]\n"
     ]
    },
    {
     "name": "stdout",
     "output_type": "stream",
     "text": [
      "[epoch 3] lr: 0.001000, train_loss: 0.222491, valid_metric: 0.788226, valid_mean:0.250679\n"
     ]
    },
    {
     "name": "stderr",
     "output_type": "stream",
     "text": [
      "loss: 0.2078: 100%|██████████| 1434/1434 [17:40<00:00,  1.35it/s]\n",
      "100%|██████████| 359/359 [04:28<00:00,  1.34it/s]\n"
     ]
    },
    {
     "name": "stdout",
     "output_type": "stream",
     "text": [
      "[epoch 4] lr: 0.001000, train_loss: 0.220454, valid_metric: 0.789986, valid_mean:0.241109\n"
     ]
    },
    {
     "name": "stderr",
     "output_type": "stream",
     "text": [
      "loss: 0.2024: 100%|██████████| 1434/1434 [17:41<00:00,  1.35it/s]\n",
      "100%|██████████| 359/359 [04:27<00:00,  1.34it/s]\n"
     ]
    },
    {
     "name": "stdout",
     "output_type": "stream",
     "text": [
      "[epoch 5] lr: 0.000100, train_loss: 0.213302, valid_metric: 0.792758, valid_mean:0.255415\n"
     ]
    },
    {
     "name": "stderr",
     "output_type": "stream",
     "text": [
      "loss: 0.2065: 100%|██████████| 1434/1434 [17:42<00:00,  1.35it/s]\n",
      "100%|██████████| 359/359 [04:26<00:00,  1.34it/s]\n"
     ]
    },
    {
     "name": "stdout",
     "output_type": "stream",
     "text": [
      "[epoch 6] lr: 0.000100, train_loss: 0.211454, valid_metric: 0.790807, valid_mean:0.254471, NIE +1 ---> 1\n"
     ]
    },
    {
     "name": "stderr",
     "output_type": "stream",
     "text": [
      "loss: 0.1877: 100%|██████████| 1434/1434 [17:42<00:00,  1.35it/s]\n",
      "100%|██████████| 359/359 [04:28<00:00,  1.33it/s]\n"
     ]
    },
    {
     "name": "stdout",
     "output_type": "stream",
     "text": [
      "[epoch 7] lr: 0.000100, train_loss: 0.210375, valid_metric: 0.791356, valid_mean:0.254901, NIE +1 ---> 2\n"
     ]
    },
    {
     "name": "stderr",
     "output_type": "stream",
     "text": [
      "loss: 0.1889: 100%|██████████| 1434/1434 [17:41<00:00,  1.35it/s]\n",
      "100%|██████████| 359/359 [04:28<00:00,  1.34it/s]\n"
     ]
    },
    {
     "name": "stdout",
     "output_type": "stream",
     "text": [
      "[epoch 8] lr: 0.000100, train_loss: 0.209388, valid_metric: 0.791123, valid_mean:0.259390, NIE +1 ---> 3\n"
     ]
    },
    {
     "name": "stderr",
     "output_type": "stream",
     "text": [
      "loss: 0.1671: 100%|██████████| 1434/1434 [17:43<00:00,  1.35it/s]\n",
      "100%|██████████| 359/359 [04:28<00:00,  1.33it/s]\n"
     ]
    },
    {
     "name": "stdout",
     "output_type": "stream",
     "text": [
      "[epoch 9] lr: 0.000010, train_loss: 0.207669, valid_metric: 0.790193, valid_mean:0.255175, NIE +1 ---> 4\n"
     ]
    },
    {
     "name": "stderr",
     "output_type": "stream",
     "text": [
      "100%|██████████| 359/359 [04:29<00:00,  1.33it/s]\n"
     ]
    },
    {
     "name": "stdout",
     "output_type": "stream",
     "text": [
      "[fold 0] best_valid_metric: 0.792758, best_valid_mean: 0.255415\n"
     ]
    },
    {
     "name": "stderr",
     "output_type": "stream",
     "text": [
      "loss: 0.1946: 100%|██████████| 1434/1434 [17:42<00:00,  1.35it/s]\n",
      "100%|██████████| 359/359 [04:31<00:00,  1.32it/s]\n"
     ]
    },
    {
     "name": "stdout",
     "output_type": "stream",
     "text": [
      "[epoch 0] lr: 0.001000, train_loss: 0.235648, valid_metric: 0.774297, valid_mean:0.240628\n"
     ]
    },
    {
     "name": "stderr",
     "output_type": "stream",
     "text": [
      "loss: 0.2597: 100%|██████████| 1434/1434 [17:44<00:00,  1.35it/s]\n",
      "100%|██████████| 359/359 [04:28<00:00,  1.34it/s]\n"
     ]
    },
    {
     "name": "stdout",
     "output_type": "stream",
     "text": [
      "[epoch 1] lr: 0.001000, train_loss: 0.226590, valid_metric: 0.778079, valid_mean:0.248111\n"
     ]
    },
    {
     "name": "stderr",
     "output_type": "stream",
     "text": [
      "loss: 0.1914: 100%|██████████| 1434/1434 [17:42<00:00,  1.35it/s]\n",
      "100%|██████████| 359/359 [04:28<00:00,  1.34it/s]\n"
     ]
    },
    {
     "name": "stdout",
     "output_type": "stream",
     "text": [
      "[epoch 2] lr: 0.001000, train_loss: 0.223883, valid_metric: 0.782746, valid_mean:0.244078\n"
     ]
    },
    {
     "name": "stderr",
     "output_type": "stream",
     "text": [
      "loss: 0.2277: 100%|██████████| 1434/1434 [17:43<00:00,  1.35it/s]\n",
      "100%|██████████| 359/359 [04:28<00:00,  1.34it/s]\n"
     ]
    },
    {
     "name": "stdout",
     "output_type": "stream",
     "text": [
      "[epoch 3] lr: 0.001000, train_loss: 0.221000, valid_metric: 0.781535, valid_mean:0.238832, NIE +1 ---> 1\n"
     ]
    },
    {
     "name": "stderr",
     "output_type": "stream",
     "text": [
      "loss: 0.1998: 100%|██████████| 1434/1434 [17:38<00:00,  1.35it/s]\n",
      "100%|██████████| 359/359 [04:29<00:00,  1.33it/s]\n"
     ]
    },
    {
     "name": "stdout",
     "output_type": "stream",
     "text": [
      "[epoch 4] lr: 0.001000, train_loss: 0.219556, valid_metric: 0.781955, valid_mean:0.249242, NIE +1 ---> 2\n"
     ]
    },
    {
     "name": "stderr",
     "output_type": "stream",
     "text": [
      "loss: 0.2468: 100%|██████████| 1434/1434 [17:40<00:00,  1.35it/s]\n",
      "100%|██████████| 359/359 [04:28<00:00,  1.34it/s]\n"
     ]
    },
    {
     "name": "stdout",
     "output_type": "stream",
     "text": [
      "[epoch 5] lr: 0.000100, train_loss: 0.211971, valid_metric: 0.784415, valid_mean:0.255041\n"
     ]
    },
    {
     "name": "stderr",
     "output_type": "stream",
     "text": [
      "loss: 0.1711: 100%|██████████| 1434/1434 [17:40<00:00,  1.35it/s]\n",
      "100%|██████████| 359/359 [04:27<00:00,  1.34it/s]\n"
     ]
    },
    {
     "name": "stdout",
     "output_type": "stream",
     "text": [
      "[epoch 6] lr: 0.000100, train_loss: 0.210121, valid_metric: 0.784368, valid_mean:0.262628, NIE +1 ---> 1\n"
     ]
    },
    {
     "name": "stderr",
     "output_type": "stream",
     "text": [
      "loss: 0.2064: 100%|██████████| 1434/1434 [17:37<00:00,  1.36it/s]\n",
      "100%|██████████| 359/359 [04:28<00:00,  1.34it/s]\n"
     ]
    },
    {
     "name": "stdout",
     "output_type": "stream",
     "text": [
      "[epoch 7] lr: 0.000100, train_loss: 0.209024, valid_metric: 0.783578, valid_mean:0.258715, NIE +1 ---> 2\n"
     ]
    },
    {
     "name": "stderr",
     "output_type": "stream",
     "text": [
      "loss: 0.2074: 100%|██████████| 1434/1434 [17:39<00:00,  1.35it/s]\n",
      "100%|██████████| 359/359 [04:26<00:00,  1.35it/s]\n"
     ]
    },
    {
     "name": "stdout",
     "output_type": "stream",
     "text": [
      "[epoch 8] lr: 0.000100, train_loss: 0.207987, valid_metric: 0.782885, valid_mean:0.256832, NIE +1 ---> 3\n"
     ]
    },
    {
     "name": "stderr",
     "output_type": "stream",
     "text": [
      "loss: 0.1782: 100%|██████████| 1434/1434 [17:37<00:00,  1.36it/s]\n",
      "100%|██████████| 359/359 [04:28<00:00,  1.34it/s]\n"
     ]
    },
    {
     "name": "stdout",
     "output_type": "stream",
     "text": [
      "[epoch 9] lr: 0.000010, train_loss: 0.206240, valid_metric: 0.782987, valid_mean:0.259836, NIE +1 ---> 4\n"
     ]
    },
    {
     "name": "stderr",
     "output_type": "stream",
     "text": [
      "100%|██████████| 359/359 [04:27<00:00,  1.34it/s]\n"
     ]
    },
    {
     "name": "stdout",
     "output_type": "stream",
     "text": [
      "[fold 1] best_valid_metric: 0.784415, best_valid_mean: 0.255041\n"
     ]
    },
    {
     "name": "stderr",
     "output_type": "stream",
     "text": [
      "loss: 0.2164: 100%|██████████| 1434/1434 [17:23<00:00,  1.37it/s]\n",
      "100%|██████████| 359/359 [04:24<00:00,  1.36it/s]\n"
     ]
    },
    {
     "name": "stdout",
     "output_type": "stream",
     "text": [
      "[epoch 0] lr: 0.001000, train_loss: 0.236491, valid_metric: 0.776412, valid_mean:0.256327\n"
     ]
    },
    {
     "name": "stderr",
     "output_type": "stream",
     "text": [
      "loss: 0.2437: 100%|██████████| 1434/1434 [17:24<00:00,  1.37it/s]\n",
      "100%|██████████| 359/359 [04:23<00:00,  1.36it/s]\n"
     ]
    },
    {
     "name": "stdout",
     "output_type": "stream",
     "text": [
      "[epoch 1] lr: 0.001000, train_loss: 0.226792, valid_metric: 0.781753, valid_mean:0.261474\n"
     ]
    },
    {
     "name": "stderr",
     "output_type": "stream",
     "text": [
      "loss: 0.2450: 100%|██████████| 1434/1434 [17:22<00:00,  1.38it/s]\n",
      "100%|██████████| 359/359 [04:24<00:00,  1.36it/s]\n"
     ]
    },
    {
     "name": "stdout",
     "output_type": "stream",
     "text": [
      "[epoch 2] lr: 0.001000, train_loss: 0.223587, valid_metric: 0.781570, valid_mean:0.297656, NIE +1 ---> 1\n"
     ]
    },
    {
     "name": "stderr",
     "output_type": "stream",
     "text": [
      "loss: 0.1969: 100%|██████████| 1434/1434 [17:23<00:00,  1.37it/s]\n",
      "100%|██████████| 359/359 [04:24<00:00,  1.36it/s]\n"
     ]
    },
    {
     "name": "stdout",
     "output_type": "stream",
     "text": [
      "[epoch 3] lr: 0.001000, train_loss: 0.221553, valid_metric: 0.784628, valid_mean:0.256323\n"
     ]
    },
    {
     "name": "stderr",
     "output_type": "stream",
     "text": [
      "loss: 0.1985: 100%|██████████| 1434/1434 [17:24<00:00,  1.37it/s]\n",
      "100%|██████████| 359/359 [04:26<00:00,  1.35it/s]\n"
     ]
    },
    {
     "name": "stdout",
     "output_type": "stream",
     "text": [
      "[epoch 4] lr: 0.001000, train_loss: 0.219258, valid_metric: 0.784816, valid_mean:0.275742\n"
     ]
    },
    {
     "name": "stderr",
     "output_type": "stream",
     "text": [
      "loss: 0.2577: 100%|██████████| 1434/1434 [17:24<00:00,  1.37it/s]\n",
      "100%|██████████| 359/359 [04:25<00:00,  1.35it/s]\n"
     ]
    },
    {
     "name": "stdout",
     "output_type": "stream",
     "text": [
      "[epoch 5] lr: 0.000100, train_loss: 0.212121, valid_metric: 0.786343, valid_mean:0.255724\n"
     ]
    },
    {
     "name": "stderr",
     "output_type": "stream",
     "text": [
      "loss: 0.2318: 100%|██████████| 1434/1434 [17:23<00:00,  1.37it/s]\n",
      "100%|██████████| 359/359 [04:24<00:00,  1.36it/s]\n"
     ]
    },
    {
     "name": "stdout",
     "output_type": "stream",
     "text": [
      "[epoch 6] lr: 0.000100, train_loss: 0.210248, valid_metric: 0.786264, valid_mean:0.252194, NIE +1 ---> 1\n"
     ]
    },
    {
     "name": "stderr",
     "output_type": "stream",
     "text": [
      "loss: 0.1859: 100%|██████████| 1434/1434 [17:24<00:00,  1.37it/s]\n",
      "100%|██████████| 359/359 [04:24<00:00,  1.36it/s]\n"
     ]
    },
    {
     "name": "stdout",
     "output_type": "stream",
     "text": [
      "[epoch 7] lr: 0.000100, train_loss: 0.209138, valid_metric: 0.786759, valid_mean:0.260317\n"
     ]
    },
    {
     "name": "stderr",
     "output_type": "stream",
     "text": [
      "loss: 0.1790: 100%|██████████| 1434/1434 [17:24<00:00,  1.37it/s]\n",
      "100%|██████████| 359/359 [04:23<00:00,  1.36it/s]\n"
     ]
    },
    {
     "name": "stdout",
     "output_type": "stream",
     "text": [
      "[epoch 8] lr: 0.000100, train_loss: 0.208172, valid_metric: 0.785733, valid_mean:0.259552, NIE +1 ---> 1\n"
     ]
    },
    {
     "name": "stderr",
     "output_type": "stream",
     "text": [
      "loss: 0.2012: 100%|██████████| 1434/1434 [17:23<00:00,  1.37it/s]\n",
      "100%|██████████| 359/359 [04:24<00:00,  1.36it/s]\n"
     ]
    },
    {
     "name": "stdout",
     "output_type": "stream",
     "text": [
      "[epoch 9] lr: 0.000010, train_loss: 0.206403, valid_metric: 0.786419, valid_mean:0.259330, NIE +1 ---> 2\n"
     ]
    },
    {
     "name": "stderr",
     "output_type": "stream",
     "text": [
      "100%|██████████| 359/359 [04:24<00:00,  1.36it/s]\n"
     ]
    },
    {
     "name": "stdout",
     "output_type": "stream",
     "text": [
      "[fold 2] best_valid_metric: 0.786759, best_valid_mean: 0.260317\n"
     ]
    },
    {
     "name": "stderr",
     "output_type": "stream",
     "text": [
      "loss: 0.2395: 100%|██████████| 1434/1434 [17:26<00:00,  1.37it/s]\n",
      "100%|██████████| 359/359 [04:25<00:00,  1.35it/s]\n"
     ]
    },
    {
     "name": "stdout",
     "output_type": "stream",
     "text": [
      "[epoch 0] lr: 0.001000, train_loss: 0.236005, valid_metric: 0.774839, valid_mean:0.250051\n"
     ]
    },
    {
     "name": "stderr",
     "output_type": "stream",
     "text": [
      "loss: 0.1811: 100%|██████████| 1434/1434 [17:25<00:00,  1.37it/s]\n",
      "100%|██████████| 359/359 [04:24<00:00,  1.36it/s]\n"
     ]
    },
    {
     "name": "stdout",
     "output_type": "stream",
     "text": [
      "[epoch 1] lr: 0.001000, train_loss: 0.226484, valid_metric: 0.779767, valid_mean:0.260318\n"
     ]
    },
    {
     "name": "stderr",
     "output_type": "stream",
     "text": [
      "loss: 0.2680: 100%|██████████| 1434/1434 [17:25<00:00,  1.37it/s]\n",
      "100%|██████████| 359/359 [04:23<00:00,  1.36it/s]\n"
     ]
    },
    {
     "name": "stdout",
     "output_type": "stream",
     "text": [
      "[epoch 2] lr: 0.001000, train_loss: 0.223556, valid_metric: 0.779186, valid_mean:0.244453, NIE +1 ---> 1\n"
     ]
    },
    {
     "name": "stderr",
     "output_type": "stream",
     "text": [
      "loss: 0.2595: 100%|██████████| 1434/1434 [17:24<00:00,  1.37it/s]\n",
      "100%|██████████| 359/359 [04:24<00:00,  1.36it/s]\n"
     ]
    },
    {
     "name": "stdout",
     "output_type": "stream",
     "text": [
      "[epoch 3] lr: 0.001000, train_loss: 0.221643, valid_metric: 0.779897, valid_mean:0.280813\n"
     ]
    },
    {
     "name": "stderr",
     "output_type": "stream",
     "text": [
      "loss: 0.1914: 100%|██████████| 1434/1434 [17:25<00:00,  1.37it/s]\n",
      "100%|██████████| 359/359 [04:24<00:00,  1.35it/s]\n"
     ]
    },
    {
     "name": "stdout",
     "output_type": "stream",
     "text": [
      "[epoch 4] lr: 0.001000, train_loss: 0.219272, valid_metric: 0.782732, valid_mean:0.277264\n"
     ]
    },
    {
     "name": "stderr",
     "output_type": "stream",
     "text": [
      "loss: 0.2440: 100%|██████████| 1434/1434 [17:25<00:00,  1.37it/s]\n",
      "100%|██████████| 359/359 [04:25<00:00,  1.35it/s]\n"
     ]
    },
    {
     "name": "stdout",
     "output_type": "stream",
     "text": [
      "[epoch 5] lr: 0.000100, train_loss: 0.212550, valid_metric: 0.786766, valid_mean:0.254967\n"
     ]
    },
    {
     "name": "stderr",
     "output_type": "stream",
     "text": [
      "loss: 0.2005: 100%|██████████| 1434/1434 [17:27<00:00,  1.37it/s]\n",
      "100%|██████████| 359/359 [04:23<00:00,  1.36it/s]\n"
     ]
    },
    {
     "name": "stdout",
     "output_type": "stream",
     "text": [
      "[epoch 6] lr: 0.000100, train_loss: 0.210759, valid_metric: 0.786400, valid_mean:0.257446, NIE +1 ---> 1\n"
     ]
    },
    {
     "name": "stderr",
     "output_type": "stream",
     "text": [
      "loss: 0.2078: 100%|██████████| 1434/1434 [17:26<00:00,  1.37it/s]\n",
      "100%|██████████| 359/359 [04:24<00:00,  1.36it/s]\n"
     ]
    },
    {
     "name": "stdout",
     "output_type": "stream",
     "text": [
      "[epoch 7] lr: 0.000100, train_loss: 0.209711, valid_metric: 0.785559, valid_mean:0.255861, NIE +1 ---> 2\n"
     ]
    },
    {
     "name": "stderr",
     "output_type": "stream",
     "text": [
      "loss: 0.2485: 100%|██████████| 1434/1434 [17:25<00:00,  1.37it/s]\n",
      "100%|██████████| 359/359 [04:24<00:00,  1.36it/s]\n"
     ]
    },
    {
     "name": "stdout",
     "output_type": "stream",
     "text": [
      "[epoch 8] lr: 0.000100, train_loss: 0.208832, valid_metric: 0.785167, valid_mean:0.256266, NIE +1 ---> 3\n"
     ]
    },
    {
     "name": "stderr",
     "output_type": "stream",
     "text": [
      "loss: 0.1841: 100%|██████████| 1434/1434 [17:25<00:00,  1.37it/s]\n",
      "100%|██████████| 359/359 [04:23<00:00,  1.36it/s]\n"
     ]
    },
    {
     "name": "stdout",
     "output_type": "stream",
     "text": [
      "[epoch 9] lr: 0.000010, train_loss: 0.207169, valid_metric: 0.784715, valid_mean:0.259381, NIE +1 ---> 4\n"
     ]
    },
    {
     "name": "stderr",
     "output_type": "stream",
     "text": [
      "100%|██████████| 359/359 [04:24<00:00,  1.36it/s]\n"
     ]
    },
    {
     "name": "stdout",
     "output_type": "stream",
     "text": [
      "[fold 3] best_valid_metric: 0.786766, best_valid_mean: 0.254967\n"
     ]
    },
    {
     "name": "stderr",
     "output_type": "stream",
     "text": [
      "loss: 0.2283: 100%|██████████| 1434/1434 [17:25<00:00,  1.37it/s]\n",
      "100%|██████████| 359/359 [04:25<00:00,  1.35it/s]\n"
     ]
    },
    {
     "name": "stdout",
     "output_type": "stream",
     "text": [
      "[epoch 0] lr: 0.001000, train_loss: 0.236563, valid_metric: 0.781217, valid_mean:0.267423\n"
     ]
    },
    {
     "name": "stderr",
     "output_type": "stream",
     "text": [
      "loss: 0.2127: 100%|██████████| 1434/1434 [17:25<00:00,  1.37it/s]\n",
      "100%|██████████| 359/359 [04:25<00:00,  1.35it/s]\n"
     ]
    },
    {
     "name": "stdout",
     "output_type": "stream",
     "text": [
      "[epoch 1] lr: 0.001000, train_loss: 0.227486, valid_metric: 0.785865, valid_mean:0.269221\n"
     ]
    },
    {
     "name": "stderr",
     "output_type": "stream",
     "text": [
      "loss: 0.2491: 100%|██████████| 1434/1434 [17:24<00:00,  1.37it/s]\n",
      "100%|██████████| 359/359 [04:25<00:00,  1.35it/s]\n"
     ]
    },
    {
     "name": "stdout",
     "output_type": "stream",
     "text": [
      "[epoch 2] lr: 0.001000, train_loss: 0.224384, valid_metric: 0.785153, valid_mean:0.245358, NIE +1 ---> 1\n"
     ]
    },
    {
     "name": "stderr",
     "output_type": "stream",
     "text": [
      "loss: 0.2132: 100%|██████████| 1434/1434 [17:24<00:00,  1.37it/s]\n",
      "100%|██████████| 359/359 [04:26<00:00,  1.35it/s]\n"
     ]
    },
    {
     "name": "stdout",
     "output_type": "stream",
     "text": [
      "[epoch 3] lr: 0.001000, train_loss: 0.222195, valid_metric: 0.786414, valid_mean:0.288513\n"
     ]
    },
    {
     "name": "stderr",
     "output_type": "stream",
     "text": [
      "loss: 0.2703: 100%|██████████| 1434/1434 [17:24<00:00,  1.37it/s]\n",
      "100%|██████████| 359/359 [04:23<00:00,  1.36it/s]\n"
     ]
    },
    {
     "name": "stdout",
     "output_type": "stream",
     "text": [
      "[epoch 4] lr: 0.001000, train_loss: 0.220237, valid_metric: 0.786641, valid_mean:0.278624\n"
     ]
    },
    {
     "name": "stderr",
     "output_type": "stream",
     "text": [
      "loss: 0.1598: 100%|██████████| 1434/1434 [17:25<00:00,  1.37it/s]\n",
      "100%|██████████| 359/359 [04:23<00:00,  1.36it/s]\n"
     ]
    },
    {
     "name": "stdout",
     "output_type": "stream",
     "text": [
      "[epoch 5] lr: 0.000100, train_loss: 0.213214, valid_metric: 0.787909, valid_mean:0.262842\n"
     ]
    },
    {
     "name": "stderr",
     "output_type": "stream",
     "text": [
      "loss: 0.2289: 100%|██████████| 1434/1434 [17:24<00:00,  1.37it/s]\n",
      "100%|██████████| 359/359 [04:25<00:00,  1.35it/s]\n"
     ]
    },
    {
     "name": "stdout",
     "output_type": "stream",
     "text": [
      "[epoch 6] lr: 0.000100, train_loss: 0.211532, valid_metric: 0.788687, valid_mean:0.255306\n"
     ]
    },
    {
     "name": "stderr",
     "output_type": "stream",
     "text": [
      "loss: 0.2509: 100%|██████████| 1434/1434 [17:26<00:00,  1.37it/s]\n",
      "100%|██████████| 359/359 [04:24<00:00,  1.36it/s]\n"
     ]
    },
    {
     "name": "stdout",
     "output_type": "stream",
     "text": [
      "[epoch 7] lr: 0.000100, train_loss: 0.210474, valid_metric: 0.786507, valid_mean:0.260895, NIE +1 ---> 1\n"
     ]
    },
    {
     "name": "stderr",
     "output_type": "stream",
     "text": [
      "loss: 0.1982: 100%|██████████| 1434/1434 [17:26<00:00,  1.37it/s]\n",
      "100%|██████████| 359/359 [04:27<00:00,  1.34it/s]\n"
     ]
    },
    {
     "name": "stdout",
     "output_type": "stream",
     "text": [
      "[epoch 8] lr: 0.000100, train_loss: 0.209567, valid_metric: 0.788460, valid_mean:0.260592, NIE +1 ---> 2\n"
     ]
    },
    {
     "name": "stderr",
     "output_type": "stream",
     "text": [
      "loss: 0.2284: 100%|██████████| 1434/1434 [17:25<00:00,  1.37it/s]\n",
      "100%|██████████| 359/359 [04:24<00:00,  1.36it/s]\n"
     ]
    },
    {
     "name": "stdout",
     "output_type": "stream",
     "text": [
      "[epoch 9] lr: 0.000010, train_loss: 0.207931, valid_metric: 0.787425, valid_mean:0.261090, NIE +1 ---> 3\n"
     ]
    },
    {
     "name": "stderr",
     "output_type": "stream",
     "text": [
      "100%|██████████| 359/359 [04:24<00:00,  1.36it/s]\n"
     ]
    },
    {
     "name": "stdout",
     "output_type": "stream",
     "text": [
      "[fold 4] best_valid_metric: 0.788687, best_valid_mean: 0.255306\n",
      "all valid mean metric:0.787877\n",
      "model count: 5\n"
     ]
    },
    {
     "name": "stderr",
     "output_type": "stream",
     "text": [
      "100%|██████████| 3612/3612 [43:31<00:00,  1.38it/s]  \n"
     ]
    },
    {
     "name": "stdout",
     "output_type": "stream",
     "text": [
      "test_mean: 0.242027\n"
     ]
    },
    {
     "data": {
      "text/plain": [
       "(                                              customer_ID  fold    target\n",
       " 0       0000099d6bd597052cdcda90ffabf56573fe9d7c79be5f...     2  0.000272\n",
       " 1       00000fd6641609c6ece5454664794f0340ad84dddce9a2...     4  0.000795\n",
       " 2       00001b22f846c82c51f6e3958ccd81970162bae8b007e8...     2  0.000754\n",
       " 3       000041bdba6ecadd89a52d11886e8eaaec9325906c9723...     2  0.004829\n",
       " 4       00007889e4fcd2614b6cbe7f8f3d2e5c728eca32d9eb8a...     1  0.002010\n",
       " ...                                                   ...   ...       ...\n",
       " 458908  ffff41c8a52833b56430603969b9ca48d208e7c192c6a4...     3  0.004195\n",
       " 458909  ffff518bb2075e4816ee3fe9f3b152c57fc0e6f01bf7fd...     1  0.011178\n",
       " 458910  ffff9984b999fccb2b6127635ed0736dda94e544e67e02...     2  0.000815\n",
       " 458911  ffffa5c46bc8de74f5a4554e74e239c8dee6b9baf38814...     2  0.102048\n",
       " 458912  fffff1d38b785cef84adeace64f8f83db3a0c31e8d92ea...     1  0.000584\n",
       " \n",
       " [458913 rows x 3 columns],\n",
       "                                               customer_ID  prediction\n",
       " 0       00000469ba478561f23a92a868bd366de6f6527a684c9a...    0.011774\n",
       " 1       00001bf2e77ff879fab36aa4fac689b9ba411dae63ae39...    0.000522\n",
       " 2       0000210045da4f81e5f122c6bde5c2a617d03eef67f82c...    0.014682\n",
       " 3       00003b41e58ede33b8daf61ab56d9952f17c9ad1c3976c...    0.379825\n",
       " 4       00004b22eaeeeb0ec976890c1d9bfc14fd9427e98c4ee9...    0.880785\n",
       " ...                                                   ...         ...\n",
       " 924616  ffff952c631f2c911b8a2a8ca56ea6e656309a83d2f64c...    0.015223\n",
       " 924617  ffffcf5df59e5e0bba2a5ac4578a34e2b5aa64a1546cd3...    0.784129\n",
       " 924618  ffffd61f098cc056dbd7d2a21380c4804bbfe60856f475...    0.504688\n",
       " 924619  ffffddef1fc3643ea179c93245b68dca0f36941cd83977...    0.358859\n",
       " 924620  fffffa7cf7e453e1acc6a1426475d5cb9400859f82ff61...    0.042143\n",
       " \n",
       " [924621 rows x 2 columns])"
      ]
     },
     "execution_count": 6,
     "metadata": {},
     "output_type": "execute_result"
    }
   ],
   "source": [
    "NN_train_and_predict(\n",
    "    [df,f,y,series_idx.values[:y.shape[0]]],\n",
    "    [df,f,series_idx.values[y.shape[0]:]],\n",
    "    Amodel,\n",
    "    nn_config,\n",
    "    use_series_oof=False,\n",
    "    run_id='NN_with_series'\n",
    ")"
   ]
  }
 ],
 "metadata": {
  "interpreter": {
   "hash": "9c90c4efae355953581131fe5eb685f809605ddb2abb7edf8826c72b30e930c0"
  },
  "kernelspec": {
   "display_name": "Python 3.9.6 ('.venv': poetry)",
   "language": "python",
   "name": "python3"
  },
  "language_info": {
   "codemirror_mode": {
    "name": "ipython",
    "version": 3
   },
   "file_extension": ".py",
   "mimetype": "text/x-python",
   "name": "python",
   "nbconvert_exporter": "python",
   "pygments_lexer": "ipython3",
   "version": "3.9.6"
  },
  "orig_nbformat": 4
 },
 "nbformat": 4,
 "nbformat_minor": 2
}
